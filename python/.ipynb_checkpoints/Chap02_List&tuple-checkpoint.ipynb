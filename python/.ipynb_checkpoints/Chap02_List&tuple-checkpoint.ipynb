{
 "metadata": {
  "name": ""
 },
 "nbformat": 3,
 "nbformat_minor": 0,
 "worksheets": [
  {
   "cells": [
    {
     "cell_type": "code",
     "collapsed": false,
     "input": [
      "#2.1\n",
      "joyce=['Joyce Lee',21]\n",
      "john=['John Smith',50]\n",
      "database=[joyce,john]\n",
      "database"
     ],
     "language": "python",
     "metadata": {},
     "outputs": [
      {
       "metadata": {},
       "output_type": "pyout",
       "prompt_number": 1,
       "text": [
        "[['Joyce Lee', 21], ['John Smith', 50]]"
       ]
      }
     ],
     "prompt_number": 1
    },
    {
     "cell_type": "code",
     "collapsed": false,
     "input": [
      "#2.21\n",
      "greeting='Hello'\n",
      "print greeting[0]\n",
      "print greeting[-1]\n",
      "print 'Hello'[1]\n",
      "fourth=raw_input('Year: ')[3]\n",
      "print fourth\n",
      "\n",
      "months=[\n",
      "       'January',\n",
      "       'February',\n",
      "       'March',\n",
      "       'April'\n",
      "       'May',\n",
      "       'June',\n",
      "       'July',\n",
      "       'August',\n",
      "       'September',\n",
      "       'October',\n",
      "       'November',\n",
      "       'December'\n",
      "]\n",
      "endings = ['st','nd','rd']+17*['th']+['st','nd','rd']+7*['th']+['st']\n",
      "year=raw_input('Year: ')\n",
      "month=raw_input('Month(1~12): ')\n",
      "day=raw_input('Day(1_31): ')\n",
      "\n",
      "month_number=int(month)\n",
      "day_number=int(day)\n",
      "\n",
      "month_name=months[month_number-1]\n",
      "ordinal=day+endings[day_number-1]\n",
      "\n",
      "print month_name+' '+ordinal+' '+year"
     ],
     "language": "python",
     "metadata": {},
     "outputs": [
      {
       "output_type": "stream",
       "stream": "stdout",
       "text": [
        "H\n",
        "o\n",
        "e\n"
       ]
      },
      {
       "name": "stdout",
       "output_type": "stream",
       "stream": "stdout",
       "text": [
        "Year: 2005\n"
       ]
      },
      {
       "output_type": "stream",
       "stream": "stdout",
       "text": [
        "5\n"
       ]
      },
      {
       "name": "stdout",
       "output_type": "stream",
       "stream": "stdout",
       "text": [
        "Year: 2015\n"
       ]
      },
      {
       "name": "stdout",
       "output_type": "stream",
       "stream": "stdout",
       "text": [
        "Month(1~12): 6\n"
       ]
      },
      {
       "name": "stdout",
       "output_type": "stream",
       "stream": "stdout",
       "text": [
        "Day(1_31): 11\n"
       ]
      },
      {
       "output_type": "stream",
       "stream": "stdout",
       "text": [
        "July 11th 2015\n"
       ]
      }
     ],
     "prompt_number": 2
    },
    {
     "cell_type": "code",
     "collapsed": false,
     "input": [
      "months=[\n",
      "       'January',\n",
      "       'February',\n",
      "       'March',\n",
      "       'April'\n",
      "       'May',\n",
      "       'June',\n",
      "       'July',\n",
      "       'August',\n",
      "       'September',\n",
      "       'October',\n",
      "       'November',\n",
      "       'December'\n",
      "]\n",
      "endings = ['st','nd','rd']+17*['th']+['st','nd','rd']+7*['th']+['st']\n",
      "year=raw_input('Year: ')\n",
      "month=raw_input('Month(1~12): ')\n",
      "day=raw_input('Day(1_31): ')\n",
      "\n",
      "month_number=int(month)\n",
      "day_number=int(day)\n",
      "\n",
      "month_name=months[month_number-1]\n",
      "ordinal=day+endings[day_number-1]\n",
      "\n",
      "print month_name+' '+ordinal+' '+year"
     ],
     "language": "python",
     "metadata": {},
     "outputs": [
      {
       "name": "stdout",
       "output_type": "stream",
       "stream": "stdout",
       "text": [
        "Year: 2015\n"
       ]
      },
      {
       "name": "stdout",
       "output_type": "stream",
       "stream": "stdout",
       "text": [
        "Month(1~12): 1\n"
       ]
      },
      {
       "name": "stdout",
       "output_type": "stream",
       "stream": "stdout",
       "text": [
        "Day(1_31): 19\n"
       ]
      },
      {
       "output_type": "stream",
       "stream": "stdout",
       "text": [
        "January 19th 2015\n"
       ]
      }
     ],
     "prompt_number": 3
    },
    {
     "cell_type": "code",
     "collapsed": false,
     "input": [
      "#2.2.2\n",
      "tag='<a href=\"http://www.python.org\">Python web site</a>'\n",
      "print tag[9:30]\n",
      "print tag[32:-4]\n",
      "\n",
      "numbers=[1,2,3,4,5,6,7,8,9,10]\n",
      "print numbers[3:6]\n",
      "print numbers[0:1]\n",
      "\n",
      "#the last 3 elements\n",
      "print numbers[7:10]\n",
      "print numbers[-3:-1]\n",
      "print numbers[-3:0]\n",
      "\n",
      "print numbers[-3:]\n",
      "#begin\n",
      "print numbers[:3]\n",
      "#all\n",
      "print numbers[:]\n",
      "\n",
      "#http://www.something.com URL\n",
      "url=raw_input('Please input the url: ')\n",
      "domain=url[11:-4]\n",
      "print 'Domain name: '+domain"
     ],
     "language": "python",
     "metadata": {},
     "outputs": [
      {
       "output_type": "stream",
       "stream": "stdout",
       "text": [
        "http://www.python.org\n",
        "Python web site\n",
        "[4, 5, 6]\n",
        "[1]\n",
        "[8, 9, 10]\n",
        "[8, 9]\n",
        "[]\n",
        "[8, 9, 10]\n",
        "[1, 2, 3]\n",
        "[1, 2, 3, 4, 5, 6, 7, 8, 9, 10]\n"
       ]
      },
      {
       "name": "stdout",
       "output_type": "stream",
       "stream": "stdout",
       "text": [
        "Please input the url: http://www.python.org\n"
       ]
      },
      {
       "output_type": "stream",
       "stream": "stdout",
       "text": [
        "Domain name: python\n"
       ]
      }
     ],
     "prompt_number": 5
    },
    {
     "cell_type": "code",
     "collapsed": false,
     "input": [
      "#2.2.2\n",
      "print numbers[0:10:1]\n",
      "print numbers[0:10:2]\n",
      "print numbers[::4]\n",
      "#from right to left\n",
      "print numbers[8:3:-1]\n",
      "print numbers[0:10:-2]\n",
      "print numbers[::-2]\n",
      "print numbers[5::-2]\n",
      "print numbers[:5:-2]"
     ],
     "language": "python",
     "metadata": {},
     "outputs": [
      {
       "output_type": "stream",
       "stream": "stdout",
       "text": [
        "[1, 2, 3, 4, 5, 6, 7, 8, 9, 10]\n",
        "[1, 3, 5, 7, 9]\n",
        "[1, 5, 9]\n",
        "[9, 8, 7, 6, 5]\n",
        "[]\n",
        "[10, 8, 6, 4, 2]\n",
        "[6, 4, 2]\n",
        "[10, 8]\n"
       ]
      }
     ],
     "prompt_number": 7
    },
    {
     "cell_type": "code",
     "collapsed": false,
     "input": [
      "#2.2.3 add\n",
      "print [1,2,3]+[4,5,6]\n",
      "print 'Hello, '+'world!'\n",
      "#only the same type can add\n",
      "#print [1,2,3]+'World'"
     ],
     "language": "python",
     "metadata": {},
     "outputs": [
      {
       "output_type": "stream",
       "stream": "stdout",
       "text": [
        "[1, 2, 3, 4, 5, 6]\n",
        "Hello, world!\n"
       ]
      }
     ],
     "prompt_number": 8
    },
    {
     "cell_type": "code",
     "collapsed": false,
     "input": [
      "#2.2.4 multiplication\n",
      "print 'python'*5\n",
      "print [42]*10\n",
      "\n",
      "# empty list, length = 10\n",
      "sequence = [None]*10\n",
      "print sequence\n",
      "\n",
      "#box\n",
      "sentence=raw_input('Sentencs: ')\n",
      "screen_width=80\n",
      "text_width=len(sentence)\n",
      "box_width=text_width+6\n",
      "left_mergin=(screen_width-box_width)//2\n",
      "print\n",
      "print ' '*left_mergin+'+'+'-'*(box_width-2)+'+'\n",
      "print ' '*left_mergin+'|'+'-'*text_width   +'|'\n",
      "print ' '*left_mergin+'|'+     sentence     +'|'\n",
      "print ' '*left_mergin+'|'+'-'*text_width   +'|'\n",
      "print ' '*left_mergin+'+'+'-'*(box_width-2)+'+'"
     ],
     "language": "python",
     "metadata": {},
     "outputs": [
      {
       "output_type": "stream",
       "stream": "stdout",
       "text": [
        "pythonpythonpythonpythonpython\n",
        "[42, 42, 42, 42, 42, 42, 42, 42, 42, 42]\n",
        "[None, None, None, None, None, None, None, None, None, None]\n"
       ]
      },
      {
       "name": "stdout",
       "output_type": "stream",
       "stream": "stdout",
       "text": [
        "Sentencs: He's a very naughty boy!\n"
       ]
      },
      {
       "output_type": "stream",
       "stream": "stdout",
       "text": [
        "\n",
        "                         +----------------------------+\n",
        "                         |------------------------|\n",
        "                         |He's a very naughty boy!|\n",
        "                         |------------------------|\n",
        "                         +----------------------------+\n"
       ]
      }
     ],
     "prompt_number": 12
    },
    {
     "cell_type": "code",
     "collapsed": false,
     "input": [
      "#2.2.5 \u6210\u5458\u8d44\u683c\n",
      "permissions = 'rw'\n",
      "print 'w' in permissions\n",
      "print 'x' in permissions\n",
      "\n",
      "user=['mlh','foo','bar']\n",
      "print raw_input('Enter your user name: ') in user\n",
      "\n",
      "subject='$$$ Get rich now!!! $$$'\n",
      "print '$$$' in subject"
     ],
     "language": "python",
     "metadata": {},
     "outputs": [
      {
       "output_type": "stream",
       "stream": "stdout",
       "text": [
        "True\n",
        "False\n"
       ]
      },
      {
       "name": "stdout",
       "output_type": "stream",
       "stream": "stdout",
       "text": [
        "Enter your user name: mlh\n"
       ]
      },
      {
       "output_type": "stream",
       "stream": "stdout",
       "text": [
        "True\n",
        "True\n"
       ]
      }
     ],
     "prompt_number": 1
    },
    {
     "cell_type": "code",
     "collapsed": false,
     "input": [
      "database=[\n",
      "          ['albert','1234'],\n",
      "          ['diltert','4242'],\n",
      "          ['smith','7524'],\n",
      "          ['jone','9843']\n",
      "        ]\n",
      "username=raw_input('User name: ')\n",
      "pin=raw_input('Pin Code: ')\n",
      "if[username,pin] in database: print 'Access granted'"
     ],
     "language": "python",
     "metadata": {},
     "outputs": [
      {
       "name": "stdout",
       "output_type": "stream",
       "stream": "stdout",
       "text": [
        "User name: u\n"
       ]
      },
      {
       "name": "stdout",
       "output_type": "stream",
       "stream": "stdout",
       "text": [
        "Pin Code: 11\n"
       ]
      }
     ],
     "prompt_number": 3
    },
    {
     "cell_type": "code",
     "collapsed": false,
     "input": [
      "numbers=[100,34,678]\n",
      "print len(numbers)\n",
      "print max(numbers)\n",
      "print min(numbers)\n",
      "\n",
      "print max(2,3)\n",
      "print min(9,3,2,5)"
     ],
     "language": "python",
     "metadata": {},
     "outputs": [
      {
       "output_type": "stream",
       "stream": "stdout",
       "text": [
        "3\n",
        "678\n",
        "34\n",
        "3\n",
        "2\n"
       ]
      }
     ],
     "prompt_number": 2
    },
    {
     "cell_type": "code",
     "collapsed": false,
     "input": [
      "#2.3.1 list\n",
      "list('hello')"
     ],
     "language": "python",
     "metadata": {},
     "outputs": [
      {
       "metadata": {},
       "output_type": "pyout",
       "prompt_number": 1,
       "text": [
        "['h', 'e', 'l', 'l', 'o']"
       ]
      }
     ],
     "prompt_number": 1
    },
    {
     "cell_type": "code",
     "collapsed": false,
     "input": [
      "#2.3.2\n",
      "#1 \n",
      "x=[1,1,1]\n",
      "x[1]=2\n",
      "x"
     ],
     "language": "python",
     "metadata": {},
     "outputs": [
      {
       "metadata": {},
       "output_type": "pyout",
       "prompt_number": 2,
       "text": [
        "[1, 2, 1]"
       ]
      }
     ],
     "prompt_number": 2
    },
    {
     "cell_type": "code",
     "collapsed": false,
     "input": [
      "#2.3.2\n",
      "#2 delete\n",
      "names=['alice','beth','cecil','dee-dee','earl']\n",
      "del names[2]\n",
      "names"
     ],
     "language": "python",
     "metadata": {},
     "outputs": [
      {
       "metadata": {},
       "output_type": "pyout",
       "prompt_number": 3,
       "text": [
        "['alice', 'beth', 'dee-dee', 'earl']"
       ]
      }
     ],
     "prompt_number": 3
    },
    {
     "cell_type": "code",
     "collapsed": false,
     "input": [
      "#2.3.2\n",
      "#3\n",
      "name=list('perl')\n",
      "print name\n",
      "name[2:]=list('ar')\n",
      "name"
     ],
     "language": "python",
     "metadata": {},
     "outputs": [
      {
       "output_type": "stream",
       "stream": "stdout",
       "text": [
        "['p', 'e', 'r', 'l']\n"
       ]
      },
      {
       "metadata": {},
       "output_type": "pyout",
       "prompt_number": 4,
       "text": [
        "['p', 'e', 'a', 'r']"
       ]
      }
     ],
     "prompt_number": 4
    },
    {
     "cell_type": "code",
     "collapsed": false,
     "input": [
      "name=list('perl')\n",
      "name[1:]=list('ython')\n",
      "name"
     ],
     "language": "python",
     "metadata": {},
     "outputs": [
      {
       "metadata": {},
       "output_type": "pyout",
       "prompt_number": 5,
       "text": [
        "['p', 'y', 't', 'h', 'o', 'n']"
       ]
      }
     ],
     "prompt_number": 5
    },
    {
     "cell_type": "code",
     "collapsed": false,
     "input": [
      "number=[1,5]\n",
      "number[1:1]=[2,3,4]\n",
      "number"
     ],
     "language": "python",
     "metadata": {},
     "outputs": [
      {
       "metadata": {},
       "output_type": "pyout",
       "prompt_number": 7,
       "text": [
        "[1, 2, 3, 4, 5]"
       ]
      }
     ],
     "prompt_number": 7
    },
    {
     "cell_type": "code",
     "collapsed": false,
     "input": [
      "number[1:4]=[]\n",
      "number"
     ],
     "language": "python",
     "metadata": {},
     "outputs": [
      {
       "metadata": {},
       "output_type": "pyout",
       "prompt_number": 8,
       "text": [
        "[1, 5]"
       ]
      }
     ],
     "prompt_number": 8
    },
    {
     "cell_type": "code",
     "collapsed": false,
     "input": [
      "#2.3.3\n",
      "#1 append\n",
      "lst=[1,2,3]\n",
      "lst.append(4)\n",
      "lst"
     ],
     "language": "python",
     "metadata": {},
     "outputs": [
      {
       "metadata": {},
       "output_type": "pyout",
       "prompt_number": 9,
       "text": [
        "[1, 2, 3, 4]"
       ]
      }
     ],
     "prompt_number": 9
    },
    {
     "cell_type": "code",
     "collapsed": false,
     "input": [
      "#2.3.3\n",
      "#2 count\n",
      "print ['to','be','or','not','to','be'].count('to')\n",
      "x=[[1,2],1,1,[2,1,[1,2]]]\n",
      "print x.count(1)\n",
      "print x.count([1,2])"
     ],
     "language": "python",
     "metadata": {},
     "outputs": [
      {
       "output_type": "stream",
       "stream": "stdout",
       "text": [
        "2\n",
        "2\n",
        "1\n"
       ]
      }
     ],
     "prompt_number": 10
    },
    {
     "cell_type": "code",
     "collapsed": false,
     "input": [
      "#2.3.3\n",
      "#3 extend\n",
      "a=[1,2,3]\n",
      "b=[4,5,6]\n",
      "print a+b\n",
      "print a\n",
      "a=a+b\n",
      "print a\n",
      "\n",
      "a=[1,2,3]\n",
      "a[len(a):]=b\n",
      "print a\n",
      "#\u53ef\u8bfb\u6027\u964d\u4f4e"
     ],
     "language": "python",
     "metadata": {},
     "outputs": [
      {
       "output_type": "stream",
       "stream": "stdout",
       "text": [
        "[1, 2, 3, 4, 5, 6]\n",
        "[1, 2, 3]\n",
        "[1, 2, 3, 4, 5, 6]\n",
        "[1, 2, 3, 4, 5, 6]\n"
       ]
      }
     ],
     "prompt_number": 11
    },
    {
     "cell_type": "code",
     "collapsed": false,
     "input": [
      "#2.3.3\n",
      "#4 index\n",
      "knights=['we','are','the','kinghts','who','say','ni']\n",
      "print knights.index('who')\n",
      "#print knights.index('herring')"
     ],
     "language": "python",
     "metadata": {},
     "outputs": [
      {
       "output_type": "stream",
       "stream": "stdout",
       "text": [
        "4\n"
       ]
      }
     ],
     "prompt_number": 13
    },
    {
     "cell_type": "code",
     "collapsed": false,
     "input": [
      "#2.3.3\n",
      "#5 insert\n",
      "numbers=[1,2,3,5,6,7]\n",
      "numbers.insert(3,'four')\n",
      "numbers\n",
      "\n",
      "#numbers[3:3]=['four']\n"
     ],
     "language": "python",
     "metadata": {},
     "outputs": [
      {
       "metadata": {},
       "output_type": "pyout",
       "prompt_number": 15,
       "text": [
        "[1, 2, 3, 'four', 5, 6, 7]"
       ]
      }
     ],
     "prompt_number": 15
    },
    {
     "cell_type": "code",
     "collapsed": false,
     "input": [
      "#2.3.3\n",
      "#6 pop (can change and give a return)\n",
      "x=[1,2,3]\n",
      "x.pop()\n",
      "print x\n",
      "x.pop(0)\n",
      "x"
     ],
     "language": "python",
     "metadata": {},
     "outputs": [
      {
       "output_type": "stream",
       "stream": "stdout",
       "text": [
        "[1, 2]\n"
       ]
      },
      {
       "metadata": {},
       "output_type": "pyout",
       "prompt_number": 16,
       "text": [
        "[2]"
       ]
      }
     ],
     "prompt_number": 16
    },
    {
     "cell_type": "code",
     "collapsed": false,
     "input": [
      "# with pop can make a stack\n",
      "x=[1,2,3]\n",
      "x.append(x.pop())\n",
      "x"
     ],
     "language": "python",
     "metadata": {},
     "outputs": [
      {
       "metadata": {},
       "output_type": "pyout",
       "prompt_number": 17,
       "text": [
        "[1, 2, 3]"
       ]
      }
     ],
     "prompt_number": 17
    },
    {
     "cell_type": "code",
     "collapsed": false,
     "input": [
      "#2.3.3\n",
      "#7 remove (changed and without return)\n",
      "x=['to','be','or','not','to','be']\n",
      "x.remove('be')\n",
      "x"
     ],
     "language": "python",
     "metadata": {},
     "outputs": [
      {
       "metadata": {},
       "output_type": "pyout",
       "prompt_number": 18,
       "text": [
        "['to', 'or', 'not', 'to', 'be']"
       ]
      }
     ],
     "prompt_number": 18
    },
    {
     "cell_type": "code",
     "collapsed": false,
     "input": [
      "#2.3.3\n",
      "#8 reverse\n",
      "x=[1,2,3]\n",
      "x.reverse()\n",
      "x\n",
      "\n",
      "#list(reverse(x))"
     ],
     "language": "python",
     "metadata": {},
     "outputs": [
      {
       "metadata": {},
       "output_type": "pyout",
       "prompt_number": 19,
       "text": [
        "[3, 2, 1]"
       ]
      }
     ],
     "prompt_number": 19
    },
    {
     "cell_type": "code",
     "collapsed": false,
     "input": [
      "#2.3.3\n",
      "#9 sort (at the position where it be)\n",
      "x=[4,6,2,1,7,9]\n",
      "x.sort()\n",
      "print x\n",
      "\n",
      "x=[4,6,2,1,7,9]\n",
      "y=x.sort()\n",
      "print y"
     ],
     "language": "python",
     "metadata": {},
     "outputs": [
      {
       "output_type": "stream",
       "stream": "stdout",
       "text": [
        "[1, 2, 4, 6, 7, 9]\n",
        "None\n"
       ]
      }
     ],
     "prompt_number": 20
    },
    {
     "cell_type": "code",
     "collapsed": false,
     "input": [
      "x=[4,6,2,1,7,9]\n",
      "y=x[:]\n",
      "y.sort()\n",
      "print x\n",
      "print y"
     ],
     "language": "python",
     "metadata": {},
     "outputs": [
      {
       "output_type": "stream",
       "stream": "stdout",
       "text": [
        "[4, 6, 2, 1, 7, 9]\n",
        "[1, 2, 4, 6, 7, 9]\n"
       ]
      }
     ],
     "prompt_number": 21
    },
    {
     "cell_type": "code",
     "collapsed": false,
     "input": [
      "# if y=x, they point to the same list\n",
      "x=[4,6,2,1,7,9]\n",
      "y=x\n",
      "y.sort()\n",
      "print x\n",
      "print y"
     ],
     "language": "python",
     "metadata": {},
     "outputs": [
      {
       "output_type": "stream",
       "stream": "stdout",
       "text": [
        "[1, 2, 4, 6, 7, 9]\n",
        "[1, 2, 4, 6, 7, 9]\n"
       ]
      }
     ],
     "prompt_number": 23
    },
    {
     "cell_type": "code",
     "collapsed": false,
     "input": [
      "x=[4,6,2,1,7,9]\n",
      "y=sorted(x)\n",
      "print x\n",
      "print y"
     ],
     "language": "python",
     "metadata": {},
     "outputs": [
      {
       "output_type": "stream",
       "stream": "stdout",
       "text": [
        "[4, 6, 2, 1, 7, 9]\n",
        "[1, 2, 4, 6, 7, 9]\n"
       ]
      }
     ],
     "prompt_number": 24
    },
    {
     "cell_type": "code",
     "collapsed": false,
     "input": [
      "sorted('python')\n",
      "#it can conclude all kinds of sequence, but always return a list"
     ],
     "language": "python",
     "metadata": {},
     "outputs": [
      {
       "metadata": {},
       "output_type": "pyout",
       "prompt_number": 25,
       "text": [
        "['h', 'n', 'o', 'p', 't', 'y']"
       ]
      }
     ],
     "prompt_number": 25
    },
    {
     "cell_type": "code",
     "collapsed": false,
     "input": [
      "#2.3.3\n",
      "#10 advance sort\n",
      "print cmp(42,32)\n",
      "print cmp(99,100)\n",
      "print cmp(1,1)\n",
      "\n",
      "numbers=[5,2,9,7]\n",
      "numbers.sort(cmp)\n",
      "print numbers"
     ],
     "language": "python",
     "metadata": {},
     "outputs": [
      {
       "output_type": "stream",
       "stream": "stdout",
       "text": [
        "1\n",
        "-1\n",
        "0\n",
        "[2, 5, 7, 9]\n"
       ]
      }
     ],
     "prompt_number": 26
    },
    {
     "cell_type": "code",
     "collapsed": false,
     "input": [
      "x=['aardvark','abalone','acme','add','aerate']\n",
      "x.sort(key=len)\n",
      "print x\n",
      "\n",
      "x=[4,6,2,1,7,9]\n",
      "x.sort(reverse=True)\n",
      "print x"
     ],
     "language": "python",
     "metadata": {},
     "outputs": [
      {
       "output_type": "stream",
       "stream": "stdout",
       "text": [
        "['add', 'acme', 'aerate', 'abalone', 'aardvark']\n",
        "[9, 7, 6, 4, 2, 1]\n"
       ]
      }
     ],
     "prompt_number": 27
    },
    {
     "cell_type": "code",
     "collapsed": false,
     "input": [
      "#2.4 Tuple (cannot change)\n",
      "1,2,3"
     ],
     "language": "python",
     "metadata": {},
     "outputs": [
      {
       "metadata": {},
       "output_type": "pyout",
       "prompt_number": 28,
       "text": [
        "(1, 2, 3)"
       ]
      }
     ],
     "prompt_number": 28
    },
    {
     "cell_type": "code",
     "collapsed": false,
     "input": [
      "(1,2,3)"
     ],
     "language": "python",
     "metadata": {},
     "outputs": [
      {
       "metadata": {},
       "output_type": "pyout",
       "prompt_number": 29,
       "text": [
        "(1, 2, 3)"
       ]
      }
     ],
     "prompt_number": 29
    },
    {
     "cell_type": "code",
     "collapsed": false,
     "input": [
      "()"
     ],
     "language": "python",
     "metadata": {},
     "outputs": [
      {
       "metadata": {},
       "output_type": "pyout",
       "prompt_number": 30,
       "text": [
        "()"
       ]
      }
     ],
     "prompt_number": 30
    },
    {
     "cell_type": "code",
     "collapsed": false,
     "input": [
      "42\n",
      "#this isn't a tuple"
     ],
     "language": "python",
     "metadata": {},
     "outputs": [
      {
       "metadata": {},
       "output_type": "pyout",
       "prompt_number": 31,
       "text": [
        "42"
       ]
      }
     ],
     "prompt_number": 31
    },
    {
     "cell_type": "code",
     "collapsed": false,
     "input": [
      "42,"
     ],
     "language": "python",
     "metadata": {},
     "outputs": [
      {
       "metadata": {},
       "output_type": "pyout",
       "prompt_number": 32,
       "text": [
        "(42,)"
       ]
      }
     ],
     "prompt_number": 32
    },
    {
     "cell_type": "code",
     "collapsed": false,
     "input": [
      "(42,)"
     ],
     "language": "python",
     "metadata": {},
     "outputs": [
      {
       "metadata": {},
       "output_type": "pyout",
       "prompt_number": 33,
       "text": [
        "(42,)"
       ]
      }
     ],
     "prompt_number": 33
    },
    {
     "cell_type": "code",
     "collapsed": false,
     "input": [
      "print 3*(40+2)\n",
      "print 3*(42+2,)"
     ],
     "language": "python",
     "metadata": {},
     "outputs": [
      {
       "output_type": "stream",
       "stream": "stdout",
       "text": [
        "126\n",
        "(44, 44, 44)\n"
       ]
      }
     ],
     "prompt_number": 34
    },
    {
     "cell_type": "code",
     "collapsed": false,
     "input": [
      "#2.4.1 tuple function\n",
      "print tuple([1,2,3])\n",
      "print tuple('abc')\n",
      "print tuple((1,2,3))"
     ],
     "language": "python",
     "metadata": {},
     "outputs": [
      {
       "output_type": "stream",
       "stream": "stdout",
       "text": [
        "(1, 2, 3)\n",
        "('a', 'b', 'c')\n",
        "(1, 2, 3)\n"
       ]
      }
     ],
     "prompt_number": 35
    },
    {
     "cell_type": "code",
     "collapsed": false,
     "input": [
      "#2.4.2 \u5143\u7ec4\u7684\u5206\u7247\u8fd8\u662f\u5143\u7ec4\n",
      "x=1,2,3\n",
      "print x[1]\n",
      "print x[0:2]"
     ],
     "language": "python",
     "metadata": {},
     "outputs": [
      {
       "output_type": "stream",
       "stream": "stdout",
       "text": [
        "2\n",
        "(1, 2)\n"
       ]
      }
     ],
     "prompt_number": 36
    },
    {
     "cell_type": "code",
     "collapsed": false,
     "input": [],
     "language": "python",
     "metadata": {},
     "outputs": []
    }
   ],
   "metadata": {}
  }
 ]
}