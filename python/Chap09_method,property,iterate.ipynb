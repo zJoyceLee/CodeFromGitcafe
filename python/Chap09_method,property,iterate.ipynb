{
 "metadata": {
  "name": ""
 },
 "nbformat": 3,
 "nbformat_minor": 0,
 "worksheets": [
  {
   "cells": [
    {
     "cell_type": "code",
     "collapsed": false,
     "input": [
      "#9.1 prepar\n",
      "class NewStyle(object):\n",
      "    more_code_here\n",
      "#new: __metaclass\n",
      "class OldStyle:\n",
      "    more_code_here"
     ],
     "language": "python",
     "metadata": {},
     "outputs": []
    },
    {
     "cell_type": "code",
     "collapsed": false,
     "input": [
      "#9.2 constructor\n",
      "f=FooBar()\n",
      "f.init\n",
      "-> f=FooBar()"
     ],
     "language": "python",
     "metadata": {},
     "outputs": []
    },
    {
     "cell_type": "code",
     "collapsed": false,
     "input": [
      "class FooBar:\n",
      "    def __init__(self):\n",
      "        self.somevar=42\n",
      "f=FooBar()\n",
      "f.somevar"
     ],
     "language": "python",
     "metadata": {},
     "outputs": [
      {
       "metadata": {},
       "output_type": "pyout",
       "prompt_number": 1,
       "text": [
        "42"
       ]
      }
     ],
     "prompt_number": 1
    },
    {
     "cell_type": "code",
     "collapsed": false,
     "input": [
      "class FooBar:\n",
      "    def __init__(self):\n",
      "        self.somevar=value\n",
      "f=FooBar('This is a constructor argument')\n",
      "f.somevar"
     ],
     "language": "python",
     "metadata": {},
     "outputs": [
      {
       "ename": "TypeError",
       "evalue": "__init__() takes exactly 1 argument (2 given)",
       "output_type": "pyerr",
       "traceback": [
        "\u001b[0;31m---------------------------------------------------------------------------\u001b[0m\n\u001b[0;31mTypeError\u001b[0m                                 Traceback (most recent call last)",
        "\u001b[0;32m<ipython-input-2-1d2392b9288c>\u001b[0m in \u001b[0;36m<module>\u001b[0;34m()\u001b[0m\n\u001b[1;32m      2\u001b[0m     \u001b[0;32mdef\u001b[0m \u001b[0m__init__\u001b[0m\u001b[0;34m(\u001b[0m\u001b[0mself\u001b[0m\u001b[0;34m)\u001b[0m\u001b[0;34m:\u001b[0m\u001b[0;34m\u001b[0m\u001b[0m\n\u001b[1;32m      3\u001b[0m         \u001b[0mself\u001b[0m\u001b[0;34m.\u001b[0m\u001b[0msomevar\u001b[0m\u001b[0;34m=\u001b[0m\u001b[0mvalue\u001b[0m\u001b[0;34m\u001b[0m\u001b[0m\n\u001b[0;32m----> 4\u001b[0;31m \u001b[0mf\u001b[0m\u001b[0;34m=\u001b[0m\u001b[0mFooBar\u001b[0m\u001b[0;34m(\u001b[0m\u001b[0;34m'This is a constructor argument'\u001b[0m\u001b[0;34m)\u001b[0m\u001b[0;34m\u001b[0m\u001b[0m\n\u001b[0m\u001b[1;32m      5\u001b[0m \u001b[0mf\u001b[0m\u001b[0;34m.\u001b[0m\u001b[0msomevar\u001b[0m\u001b[0;34m\u001b[0m\u001b[0m\n",
        "\u001b[0;31mTypeError\u001b[0m: __init__() takes exactly 1 argument (2 given)"
       ]
      }
     ],
     "prompt_number": 2
    },
    {
     "cell_type": "code",
     "collapsed": false,
     "input": [
      "#9.2.1 \u91cd\u5199\u4e00\u822c\u65b9\u6cd5\u548c\u7279\u6b8a\u7684\u6784\u9020\u65b9\u6cd5\n",
      "class A:\n",
      "    def hello(self):\n",
      "        print \"Hello,I'm A.\"\n",
      "class B(A):\n",
      "    pass"
     ],
     "language": "python",
     "metadata": {},
     "outputs": [],
     "prompt_number": 6
    },
    {
     "cell_type": "code",
     "collapsed": false,
     "input": [
      "a=A()\n",
      "b=B()\n",
      "a.hello()"
     ],
     "language": "python",
     "metadata": {},
     "outputs": [
      {
       "output_type": "stream",
       "stream": "stdout",
       "text": [
        "Hello,I'm A.\n"
       ]
      }
     ],
     "prompt_number": 8
    },
    {
     "cell_type": "code",
     "collapsed": false,
     "input": [
      "b.hello()"
     ],
     "language": "python",
     "metadata": {},
     "outputs": [
      {
       "output_type": "stream",
       "stream": "stdout",
       "text": [
        "Hello,I'm A.\n"
       ]
      }
     ],
     "prompt_number": 9
    },
    {
     "cell_type": "code",
     "collapsed": false,
     "input": [
      "class B(A):\n",
      "    def hello(self):\n",
      "        print \"Hello, I'm B.\""
     ],
     "language": "python",
     "metadata": {},
     "outputs": [],
     "prompt_number": 10
    },
    {
     "cell_type": "code",
     "collapsed": false,
     "input": [
      "b=B()\n",
      "b.hello()"
     ],
     "language": "python",
     "metadata": {},
     "outputs": [
      {
       "output_type": "stream",
       "stream": "stdout",
       "text": [
        "Hello, I'm B.\n"
       ]
      }
     ],
     "prompt_number": 11
    },
    {
     "cell_type": "code",
     "collapsed": false,
     "input": [
      "class Bird:\n",
      "    def __init__(self):\n",
      "        self.hungry=True\n",
      "    def eat(self):\n",
      "        if self.hungry:\n",
      "            print 'Aaaah...'\n",
      "            self.hungry=False\n",
      "        else:\n",
      "            print 'No, thanks!'"
     ],
     "language": "python",
     "metadata": {},
     "outputs": [],
     "prompt_number": 12
    },
    {
     "cell_type": "code",
     "collapsed": false,
     "input": [
      "b=Bird()\n",
      "b.eat()"
     ],
     "language": "python",
     "metadata": {},
     "outputs": [
      {
       "output_type": "stream",
       "stream": "stdout",
       "text": [
        "Aaaah...\n"
       ]
      }
     ],
     "prompt_number": 13
    },
    {
     "cell_type": "code",
     "collapsed": false,
     "input": [
      "b.eat()"
     ],
     "language": "python",
     "metadata": {},
     "outputs": [
      {
       "output_type": "stream",
       "stream": "stdout",
       "text": [
        "No, thanks!\n"
       ]
      }
     ],
     "prompt_number": 14
    },
    {
     "cell_type": "code",
     "collapsed": false,
     "input": [
      "class SongBird(Bird):\n",
      "    def __init__(self):\n",
      "        self.sound='Squawk!'\n",
      "    def sing(self):\n",
      "        print self.sound\n",
      "\n",
      "sb=SongBird()\n",
      "sb.sing()"
     ],
     "language": "python",
     "metadata": {},
     "outputs": [
      {
       "output_type": "stream",
       "stream": "stdout",
       "text": [
        "Squawk!\n"
       ]
      }
     ],
     "prompt_number": 15
    },
    {
     "cell_type": "code",
     "collapsed": false,
     "input": [
      "sb.eat()"
     ],
     "language": "python",
     "metadata": {},
     "outputs": [
      {
       "ename": "AttributeError",
       "evalue": "SongBird instance has no attribute 'hungry'",
       "output_type": "pyerr",
       "traceback": [
        "\u001b[0;31m---------------------------------------------------------------------------\u001b[0m\n\u001b[0;31mAttributeError\u001b[0m                            Traceback (most recent call last)",
        "\u001b[0;32m<ipython-input-16-05f67b3cf162>\u001b[0m in \u001b[0;36m<module>\u001b[0;34m()\u001b[0m\n\u001b[0;32m----> 1\u001b[0;31m \u001b[0msb\u001b[0m\u001b[0;34m.\u001b[0m\u001b[0meat\u001b[0m\u001b[0;34m(\u001b[0m\u001b[0;34m)\u001b[0m\u001b[0;34m\u001b[0m\u001b[0m\n\u001b[0m",
        "\u001b[0;32m<ipython-input-12-eb144ab05351>\u001b[0m in \u001b[0;36meat\u001b[0;34m(self)\u001b[0m\n\u001b[1;32m      3\u001b[0m         \u001b[0mself\u001b[0m\u001b[0;34m.\u001b[0m\u001b[0mhungry\u001b[0m\u001b[0;34m=\u001b[0m\u001b[0mTrue\u001b[0m\u001b[0;34m\u001b[0m\u001b[0m\n\u001b[1;32m      4\u001b[0m     \u001b[0;32mdef\u001b[0m \u001b[0meat\u001b[0m\u001b[0;34m(\u001b[0m\u001b[0mself\u001b[0m\u001b[0;34m)\u001b[0m\u001b[0;34m:\u001b[0m\u001b[0;34m\u001b[0m\u001b[0m\n\u001b[0;32m----> 5\u001b[0;31m         \u001b[0;32mif\u001b[0m \u001b[0mself\u001b[0m\u001b[0;34m.\u001b[0m\u001b[0mhungry\u001b[0m\u001b[0;34m:\u001b[0m\u001b[0;34m\u001b[0m\u001b[0m\n\u001b[0m\u001b[1;32m      6\u001b[0m             \u001b[0;32mprint\u001b[0m \u001b[0;34m'Aaaah...'\u001b[0m\u001b[0;34m\u001b[0m\u001b[0m\n\u001b[1;32m      7\u001b[0m             \u001b[0mself\u001b[0m\u001b[0;34m.\u001b[0m\u001b[0mhungry\u001b[0m\u001b[0;34m=\u001b[0m\u001b[0mFalse\u001b[0m\u001b[0;34m\u001b[0m\u001b[0m\n",
        "\u001b[0;31mAttributeError\u001b[0m: SongBird instance has no attribute 'hungry'"
       ]
      }
     ],
     "prompt_number": 16
    },
    {
     "cell_type": "code",
     "collapsed": false,
     "input": [
      "#9.2.2 \u8c03\u7528\u672a\u7ed1\u5b9a\u7684\u8d85\u7c7b\u6784\u9020\u65b9\u6cd5\n",
      "class SongBird(Bird):\n",
      "    def __init__(self):\n",
      "        Bird.__init__(self)\n",
      "        self.sound='Squawk!'\n",
      "    def sing(self):\n",
      "        print self.sound\n",
      "        \n",
      "sb=SongBird()\n",
      "sb.sing()"
     ],
     "language": "python",
     "metadata": {},
     "outputs": [
      {
       "output_type": "stream",
       "stream": "stdout",
       "text": [
        "Squawk!\n"
       ]
      }
     ],
     "prompt_number": 17
    },
    {
     "cell_type": "code",
     "collapsed": false,
     "input": [
      "sb.eat()"
     ],
     "language": "python",
     "metadata": {},
     "outputs": [
      {
       "output_type": "stream",
       "stream": "stdout",
       "text": [
        "Aaaah...\n"
       ]
      }
     ],
     "prompt_number": 18
    },
    {
     "cell_type": "code",
     "collapsed": false,
     "input": [
      "sb.eat()"
     ],
     "language": "python",
     "metadata": {},
     "outputs": [
      {
       "output_type": "stream",
       "stream": "stdout",
       "text": [
        "No, thanks!\n"
       ]
      }
     ],
     "prompt_number": 19
    },
    {
     "cell_type": "code",
     "collapsed": false,
     "input": [
      "#9.2.3 use super()\n",
      "__metaclass__=type # super() only work in newClass\n",
      "class Bird:\n",
      "    def __init__(self):\n",
      "        self.hungry=True\n",
      "    def eat(self):\n",
      "        if self.hungry:\n",
      "            print 'Aaaah...'\n",
      "            self.hungry=False\n",
      "        else:\n",
      "            print 'No, thanks'\n",
      "\n",
      "class SongBird(Bird):\n",
      "    def __init__(self):\n",
      "        super(SongBird,self).__init__()\n",
      "        self.sound='Squawk!'\n",
      "    def sing(self):\n",
      "        print self.sound\n",
      "        \n",
      "sb=SongBird()\n",
      "sb.sing()"
     ],
     "language": "python",
     "metadata": {},
     "outputs": [
      {
       "output_type": "stream",
       "stream": "stdout",
       "text": [
        "Squawk!\n"
       ]
      }
     ],
     "prompt_number": 20
    },
    {
     "cell_type": "code",
     "collapsed": false,
     "input": [
      "sb.eat()"
     ],
     "language": "python",
     "metadata": {},
     "outputs": [
      {
       "output_type": "stream",
       "stream": "stdout",
       "text": [
        "Aaaah...\n"
       ]
      }
     ],
     "prompt_number": 21
    },
    {
     "cell_type": "code",
     "collapsed": false,
     "input": [
      "sb.eat()"
     ],
     "language": "python",
     "metadata": {},
     "outputs": [
      {
       "output_type": "stream",
       "stream": "stdout",
       "text": [
        "No, thanks\n"
       ]
      }
     ],
     "prompt_number": 22
    },
    {
     "cell_type": "code",
     "collapsed": false,
     "input": [
      "#9.3 member access\n",
      "#9.3.1 sequence and mapping\n",
      "# __len__(self)\n",
      "# __getitem__(self,key)\n",
      "# __setitem__(self,key,value)\n",
      "# __delitem__(self,key)\n",
      "# x[-n]=x[len(x)-n]\n",
      "def checkIndex(key):\n",
      "    if not isinstance(key,(int,long)):\n",
      "        raise TypeError\n",
      "    if key<0:\n",
      "        raise IndexError\n",
      "class ArithmeticSequence:\n",
      "    def __init__(self,start=0,step=1):\n",
      "        self.start=start\n",
      "        self.step=step\n",
      "        self.changed={}\n",
      "    def __getitem__(self,key):\n",
      "        checkIndex(key)\n",
      "        try:\n",
      "            return self.changed[key]\n",
      "        except KeyError:\n",
      "            return self.start+key*self.step\n",
      "    def __setitem__(self,key,value):\n",
      "        checkIndex(key)\n",
      "        self.changed[key]=value"
     ],
     "language": "python",
     "metadata": {},
     "outputs": [],
     "prompt_number": 1
    },
    {
     "cell_type": "code",
     "collapsed": false,
     "input": [
      "s=ArithmeticSequence(1,2)\n",
      "s[4]"
     ],
     "language": "python",
     "metadata": {},
     "outputs": [
      {
       "metadata": {},
       "output_type": "pyout",
       "prompt_number": 2,
       "text": [
        "9"
       ]
      }
     ],
     "prompt_number": 2
    },
    {
     "cell_type": "code",
     "collapsed": false,
     "input": [
      "s[4]=2\n",
      "s[4]"
     ],
     "language": "python",
     "metadata": {},
     "outputs": [
      {
       "metadata": {},
       "output_type": "pyout",
       "prompt_number": 3,
       "text": [
        "2"
       ]
      }
     ],
     "prompt_number": 3
    },
    {
     "cell_type": "code",
     "collapsed": false,
     "input": [
      "s[5]"
     ],
     "language": "python",
     "metadata": {},
     "outputs": [
      {
       "metadata": {},
       "output_type": "pyout",
       "prompt_number": 4,
       "text": [
        "11"
       ]
      }
     ],
     "prompt_number": 4
    },
    {
     "cell_type": "code",
     "collapsed": false,
     "input": [
      "del s[4]"
     ],
     "language": "python",
     "metadata": {},
     "outputs": [
      {
       "ename": "AttributeError",
       "evalue": "ArithmeticSequence instance has no attribute '__delitem__'",
       "output_type": "pyerr",
       "traceback": [
        "\u001b[0;31m---------------------------------------------------------------------------\u001b[0m\n\u001b[0;31mAttributeError\u001b[0m                            Traceback (most recent call last)",
        "\u001b[0;32m<ipython-input-5-9cf88d1604ce>\u001b[0m in \u001b[0;36m<module>\u001b[0;34m()\u001b[0m\n\u001b[0;32m----> 1\u001b[0;31m \u001b[0;32mdel\u001b[0m \u001b[0ms\u001b[0m\u001b[0;34m[\u001b[0m\u001b[0;36m4\u001b[0m\u001b[0;34m]\u001b[0m\u001b[0;34m\u001b[0m\u001b[0m\n\u001b[0m",
        "\u001b[0;31mAttributeError\u001b[0m: ArithmeticSequence instance has no attribute '__delitem__'"
       ]
      }
     ],
     "prompt_number": 5
    },
    {
     "cell_type": "code",
     "collapsed": false,
     "input": [
      "s['four']"
     ],
     "language": "python",
     "metadata": {},
     "outputs": [
      {
       "ename": "TypeError",
       "evalue": "",
       "output_type": "pyerr",
       "traceback": [
        "\u001b[0;31m---------------------------------------------------------------------------\u001b[0m\n\u001b[0;31mTypeError\u001b[0m                                 Traceback (most recent call last)",
        "\u001b[0;32m<ipython-input-6-f34801bc947b>\u001b[0m in \u001b[0;36m<module>\u001b[0;34m()\u001b[0m\n\u001b[0;32m----> 1\u001b[0;31m \u001b[0ms\u001b[0m\u001b[0;34m[\u001b[0m\u001b[0;34m'four'\u001b[0m\u001b[0;34m]\u001b[0m\u001b[0;34m\u001b[0m\u001b[0m\n\u001b[0m",
        "\u001b[0;32m<ipython-input-1-7e8f068a1cad>\u001b[0m in \u001b[0;36m__getitem__\u001b[0;34m(self, key)\u001b[0m\n\u001b[1;32m     17\u001b[0m         \u001b[0mself\u001b[0m\u001b[0;34m.\u001b[0m\u001b[0mchanged\u001b[0m\u001b[0;34m=\u001b[0m\u001b[0;34m{\u001b[0m\u001b[0;34m}\u001b[0m\u001b[0;34m\u001b[0m\u001b[0m\n\u001b[1;32m     18\u001b[0m     \u001b[0;32mdef\u001b[0m \u001b[0m__getitem__\u001b[0m\u001b[0;34m(\u001b[0m\u001b[0mself\u001b[0m\u001b[0;34m,\u001b[0m\u001b[0mkey\u001b[0m\u001b[0;34m)\u001b[0m\u001b[0;34m:\u001b[0m\u001b[0;34m\u001b[0m\u001b[0m\n\u001b[0;32m---> 19\u001b[0;31m         \u001b[0mcheckIndex\u001b[0m\u001b[0;34m(\u001b[0m\u001b[0mkey\u001b[0m\u001b[0;34m)\u001b[0m\u001b[0;34m\u001b[0m\u001b[0m\n\u001b[0m\u001b[1;32m     20\u001b[0m         \u001b[0;32mtry\u001b[0m\u001b[0;34m:\u001b[0m\u001b[0;34m\u001b[0m\u001b[0m\n\u001b[1;32m     21\u001b[0m             \u001b[0;32mreturn\u001b[0m \u001b[0mself\u001b[0m\u001b[0;34m.\u001b[0m\u001b[0mchanged\u001b[0m\u001b[0;34m[\u001b[0m\u001b[0mkey\u001b[0m\u001b[0;34m]\u001b[0m\u001b[0;34m\u001b[0m\u001b[0m\n",
        "\u001b[0;32m<ipython-input-1-7e8f068a1cad>\u001b[0m in \u001b[0;36mcheckIndex\u001b[0;34m(key)\u001b[0m\n\u001b[1;32m      8\u001b[0m \u001b[0;32mdef\u001b[0m \u001b[0mcheckIndex\u001b[0m\u001b[0;34m(\u001b[0m\u001b[0mkey\u001b[0m\u001b[0;34m)\u001b[0m\u001b[0;34m:\u001b[0m\u001b[0;34m\u001b[0m\u001b[0m\n\u001b[1;32m      9\u001b[0m     \u001b[0;32mif\u001b[0m \u001b[0;32mnot\u001b[0m \u001b[0misinstance\u001b[0m\u001b[0;34m(\u001b[0m\u001b[0mkey\u001b[0m\u001b[0;34m,\u001b[0m\u001b[0;34m(\u001b[0m\u001b[0mint\u001b[0m\u001b[0;34m,\u001b[0m\u001b[0mlong\u001b[0m\u001b[0;34m)\u001b[0m\u001b[0;34m)\u001b[0m\u001b[0;34m:\u001b[0m\u001b[0;34m\u001b[0m\u001b[0m\n\u001b[0;32m---> 10\u001b[0;31m         \u001b[0;32mraise\u001b[0m \u001b[0mTypeError\u001b[0m\u001b[0;34m\u001b[0m\u001b[0m\n\u001b[0m\u001b[1;32m     11\u001b[0m     \u001b[0;32mif\u001b[0m \u001b[0mkey\u001b[0m\u001b[0;34m<\u001b[0m\u001b[0;36m0\u001b[0m\u001b[0;34m:\u001b[0m\u001b[0;34m\u001b[0m\u001b[0m\n\u001b[1;32m     12\u001b[0m         \u001b[0;32mraise\u001b[0m \u001b[0mIndexError\u001b[0m\u001b[0;34m\u001b[0m\u001b[0m\n",
        "\u001b[0;31mTypeError\u001b[0m: "
       ]
      }
     ],
     "prompt_number": 6
    },
    {
     "cell_type": "code",
     "collapsed": false,
     "input": [
      "s[-42]"
     ],
     "language": "python",
     "metadata": {},
     "outputs": [
      {
       "ename": "IndexError",
       "evalue": "",
       "output_type": "pyerr",
       "traceback": [
        "\u001b[0;31m---------------------------------------------------------------------------\u001b[0m\n\u001b[0;31mIndexError\u001b[0m                                Traceback (most recent call last)",
        "\u001b[0;32m<ipython-input-7-d0f32d6d7950>\u001b[0m in \u001b[0;36m<module>\u001b[0;34m()\u001b[0m\n\u001b[0;32m----> 1\u001b[0;31m \u001b[0ms\u001b[0m\u001b[0;34m[\u001b[0m\u001b[0;34m-\u001b[0m\u001b[0;36m42\u001b[0m\u001b[0;34m]\u001b[0m\u001b[0;34m\u001b[0m\u001b[0m\n\u001b[0m",
        "\u001b[0;32m<ipython-input-1-7e8f068a1cad>\u001b[0m in \u001b[0;36m__getitem__\u001b[0;34m(self, key)\u001b[0m\n\u001b[1;32m     17\u001b[0m         \u001b[0mself\u001b[0m\u001b[0;34m.\u001b[0m\u001b[0mchanged\u001b[0m\u001b[0;34m=\u001b[0m\u001b[0;34m{\u001b[0m\u001b[0;34m}\u001b[0m\u001b[0;34m\u001b[0m\u001b[0m\n\u001b[1;32m     18\u001b[0m     \u001b[0;32mdef\u001b[0m \u001b[0m__getitem__\u001b[0m\u001b[0;34m(\u001b[0m\u001b[0mself\u001b[0m\u001b[0;34m,\u001b[0m\u001b[0mkey\u001b[0m\u001b[0;34m)\u001b[0m\u001b[0;34m:\u001b[0m\u001b[0;34m\u001b[0m\u001b[0m\n\u001b[0;32m---> 19\u001b[0;31m         \u001b[0mcheckIndex\u001b[0m\u001b[0;34m(\u001b[0m\u001b[0mkey\u001b[0m\u001b[0;34m)\u001b[0m\u001b[0;34m\u001b[0m\u001b[0m\n\u001b[0m\u001b[1;32m     20\u001b[0m         \u001b[0;32mtry\u001b[0m\u001b[0;34m:\u001b[0m\u001b[0;34m\u001b[0m\u001b[0m\n\u001b[1;32m     21\u001b[0m             \u001b[0;32mreturn\u001b[0m \u001b[0mself\u001b[0m\u001b[0;34m.\u001b[0m\u001b[0mchanged\u001b[0m\u001b[0;34m[\u001b[0m\u001b[0mkey\u001b[0m\u001b[0;34m]\u001b[0m\u001b[0;34m\u001b[0m\u001b[0m\n",
        "\u001b[0;32m<ipython-input-1-7e8f068a1cad>\u001b[0m in \u001b[0;36mcheckIndex\u001b[0;34m(key)\u001b[0m\n\u001b[1;32m     10\u001b[0m         \u001b[0;32mraise\u001b[0m \u001b[0mTypeError\u001b[0m\u001b[0;34m\u001b[0m\u001b[0m\n\u001b[1;32m     11\u001b[0m     \u001b[0;32mif\u001b[0m \u001b[0mkey\u001b[0m\u001b[0;34m<\u001b[0m\u001b[0;36m0\u001b[0m\u001b[0;34m:\u001b[0m\u001b[0;34m\u001b[0m\u001b[0m\n\u001b[0;32m---> 12\u001b[0;31m         \u001b[0;32mraise\u001b[0m \u001b[0mIndexError\u001b[0m\u001b[0;34m\u001b[0m\u001b[0m\n\u001b[0m\u001b[1;32m     13\u001b[0m \u001b[0;32mclass\u001b[0m \u001b[0mArithmeticSequence\u001b[0m\u001b[0;34m:\u001b[0m\u001b[0;34m\u001b[0m\u001b[0m\n\u001b[1;32m     14\u001b[0m     \u001b[0;32mdef\u001b[0m \u001b[0m__init__\u001b[0m\u001b[0;34m(\u001b[0m\u001b[0mself\u001b[0m\u001b[0;34m,\u001b[0m\u001b[0mstart\u001b[0m\u001b[0;34m=\u001b[0m\u001b[0;36m0\u001b[0m\u001b[0;34m,\u001b[0m\u001b[0mstep\u001b[0m\u001b[0;34m=\u001b[0m\u001b[0;36m1\u001b[0m\u001b[0;34m)\u001b[0m\u001b[0;34m:\u001b[0m\u001b[0;34m\u001b[0m\u001b[0m\n",
        "\u001b[0;31mIndexError\u001b[0m: "
       ]
      }
     ],
     "prompt_number": 7
    },
    {
     "cell_type": "code",
     "collapsed": false,
     "input": [
      "#9.3.2 \u5b50\u7c7b\u5316\u5217\u8868\uff0c\u5b57\u5178\u548c\u5b57\u7b26\u4e32\n",
      "class CounterList(list):\n",
      "    def __init__(self,*args):\n",
      "        super(CounterList,self).__init__(*args)\n",
      "        self.counter=0\n",
      "    def __getitem__(self,index):\n",
      "        self.counter+=1\n",
      "        return super(CounterList,self).__getitem__(index)"
     ],
     "language": "python",
     "metadata": {},
     "outputs": [],
     "prompt_number": 8
    },
    {
     "cell_type": "code",
     "collapsed": false,
     "input": [
      "c1=CounterList(range(10))\n",
      "c1"
     ],
     "language": "python",
     "metadata": {},
     "outputs": [
      {
       "metadata": {},
       "output_type": "pyout",
       "prompt_number": 9,
       "text": [
        "[0, 1, 2, 3, 4, 5, 6, 7, 8, 9]"
       ]
      }
     ],
     "prompt_number": 9
    },
    {
     "cell_type": "code",
     "collapsed": false,
     "input": [
      "c1.reverse()\n",
      "c1"
     ],
     "language": "python",
     "metadata": {},
     "outputs": [
      {
       "metadata": {},
       "output_type": "pyout",
       "prompt_number": 10,
       "text": [
        "[9, 8, 7, 6, 5, 4, 3, 2, 1, 0]"
       ]
      }
     ],
     "prompt_number": 10
    },
    {
     "cell_type": "code",
     "collapsed": false,
     "input": [
      "del c1[3:6]\n",
      "c1"
     ],
     "language": "python",
     "metadata": {},
     "outputs": [
      {
       "metadata": {},
       "output_type": "pyout",
       "prompt_number": 11,
       "text": [
        "[9, 8, 7, 3, 2, 1, 0]"
       ]
      }
     ],
     "prompt_number": 11
    },
    {
     "cell_type": "code",
     "collapsed": false,
     "input": [
      "c1.counter"
     ],
     "language": "python",
     "metadata": {},
     "outputs": [
      {
       "metadata": {},
       "output_type": "pyout",
       "prompt_number": 12,
       "text": [
        "0"
       ]
      }
     ],
     "prompt_number": 12
    },
    {
     "cell_type": "code",
     "collapsed": false,
     "input": [
      "c1[4]+c1[2]"
     ],
     "language": "python",
     "metadata": {},
     "outputs": [
      {
       "metadata": {},
       "output_type": "pyout",
       "prompt_number": 13,
       "text": [
        "9"
       ]
      }
     ],
     "prompt_number": 13
    },
    {
     "cell_type": "code",
     "collapsed": false,
     "input": [
      "c1.counter"
     ],
     "language": "python",
     "metadata": {},
     "outputs": [
      {
       "metadata": {},
       "output_type": "pyout",
       "prompt_number": 14,
       "text": [
        "2"
       ]
      }
     ],
     "prompt_number": 14
    },
    {
     "cell_type": "code",
     "collapsed": false,
     "input": [
      "#9.4 more magic\n",
      "#http://www.python.org/doc/ref/specialnames.html\n",
      "#9.5 property\n",
      "class Rectangle:\n",
      "    def __init__(self):\n",
      "        self.width=0\n",
      "        self.height=0\n",
      "    def setSize(self,size):\n",
      "        self.width,self.height=size\n",
      "    def getSize(self):\n",
      "        return self.width,self.height"
     ],
     "language": "python",
     "metadata": {},
     "outputs": [],
     "prompt_number": 15
    },
    {
     "cell_type": "code",
     "collapsed": false,
     "input": [
      "r=Rectangle()\n",
      "r.width=10\n",
      "r.height=5\n",
      "r.getSize()"
     ],
     "language": "python",
     "metadata": {},
     "outputs": [
      {
       "metadata": {},
       "output_type": "pyout",
       "prompt_number": 16,
       "text": [
        "(10, 5)"
       ]
      }
     ],
     "prompt_number": 16
    },
    {
     "cell_type": "code",
     "collapsed": false,
     "input": [
      "r.setSize((150,100))\n",
      "r.width"
     ],
     "language": "python",
     "metadata": {},
     "outputs": [
      {
       "metadata": {},
       "output_type": "pyout",
       "prompt_number": 18,
       "text": [
        "150"
       ]
      }
     ],
     "prompt_number": 18
    },
    {
     "cell_type": "code",
     "collapsed": false,
     "input": [
      "#9.5.1 property func\n",
      "__metaclass__=type\n",
      "class Rectangle:\n",
      "    def __init__(self):\n",
      "        self.width=0\n",
      "        self.height=0\n",
      "    def setSize(self,size):\n",
      "        self.width,self.height=size\n",
      "    def getSize(self):\n",
      "        return self.width,self.height\n",
      "    size=property(getSize,setSize)"
     ],
     "language": "python",
     "metadata": {},
     "outputs": [],
     "prompt_number": 19
    },
    {
     "cell_type": "code",
     "collapsed": false,
     "input": [
      "r=Rectangle()\n",
      "r.width=10\n",
      "r.height=5\n",
      "r.size"
     ],
     "language": "python",
     "metadata": {},
     "outputs": [
      {
       "metadata": {},
       "output_type": "pyout",
       "prompt_number": 20,
       "text": [
        "(10, 5)"
       ]
      }
     ],
     "prompt_number": 20
    },
    {
     "cell_type": "code",
     "collapsed": false,
     "input": [
      "r.size=150,100\n",
      "r.width"
     ],
     "language": "python",
     "metadata": {},
     "outputs": [
      {
       "metadata": {},
       "output_type": "pyout",
       "prompt_number": 21,
       "text": [
        "150"
       ]
      }
     ],
     "prompt_number": 21
    },
    {
     "cell_type": "code",
     "collapsed": false,
     "input": [
      "#9.5.2 \u9759\u6001\u65b9\u6cd5\u548c\u7c7b\u6210\u5458\u65b9\u6cd5\n",
      "__metaclass__=type\n",
      "class MyClass:\n",
      "    def smeth():\n",
      "        print 'This is a static method'\n",
      "    smeth=staticmethod(smeth)\n",
      "    def cmeth(cls):\n",
      "        print 'This is a class method of',cls\n",
      "    cmeth=classmethod(cmeth)"
     ],
     "language": "python",
     "metadata": {},
     "outputs": [],
     "prompt_number": 22
    },
    {
     "cell_type": "code",
     "collapsed": false,
     "input": [
      "__metaclass__=type\n",
      "class MyClass:\n",
      "    @staticmethod\n",
      "    def smeth():\n",
      "        print 'This is a static method'\n",
      "    @classmethod\n",
      "    def cmeth(cls):\n",
      "        print 'This is a class method of',cls"
     ],
     "language": "python",
     "metadata": {},
     "outputs": [],
     "prompt_number": 23
    },
    {
     "cell_type": "code",
     "collapsed": false,
     "input": [
      "MyClass.smeth()"
     ],
     "language": "python",
     "metadata": {},
     "outputs": [
      {
       "output_type": "stream",
       "stream": "stdout",
       "text": [
        "This is a static method\n"
       ]
      }
     ],
     "prompt_number": 24
    },
    {
     "cell_type": "code",
     "collapsed": false,
     "input": [
      "MyClass.cmeth()"
     ],
     "language": "python",
     "metadata": {},
     "outputs": [
      {
       "output_type": "stream",
       "stream": "stdout",
       "text": [
        "This is a class method of <class '__main__.MyClass'>\n"
       ]
      }
     ],
     "prompt_number": 25
    },
    {
     "cell_type": "code",
     "collapsed": false,
     "input": [
      "#9.5.3 __getattr__,__setattr__,and their firends\n",
      "class Rectangle:\n",
      "    def __init__(self):\n",
      "        self.width=0\n",
      "        self.height=0\n",
      "    def __setattr__(self,name,value):\n",
      "        if name=='size':\n",
      "            self.width,self.height=value\n",
      "        else:\n",
      "            self.__dict__[name]=value\n",
      "    def __getattr__(self,name):\n",
      "        if name=='size':\n",
      "            return self.width,self.height\n",
      "        else:\n",
      "            raise AttributeError"
     ],
     "language": "python",
     "metadata": {},
     "outputs": [],
     "prompt_number": 26
    },
    {
     "cell_type": "code",
     "collapsed": false,
     "input": [
      "#9.6 iterator\n",
      "#9.6.1 iterator protocol\n",
      "class Fibs:\n",
      "    def __init__(self):\n",
      "        self.a=0\n",
      "        self.b=1\n",
      "    def next(self):\n",
      "        self.a,self.b=self.b,self.a+self.b\n",
      "        return self.a\n",
      "    def __iter__(self):\n",
      "        return self"
     ],
     "language": "python",
     "metadata": {},
     "outputs": [],
     "prompt_number": 27
    },
    {
     "cell_type": "code",
     "collapsed": false,
     "input": [
      "fibs=Fibs()\n",
      "for f in fibs:\n",
      "    if f>1000:\n",
      "        print f\n",
      "        break"
     ],
     "language": "python",
     "metadata": {},
     "outputs": [
      {
       "output_type": "stream",
       "stream": "stdout",
       "text": [
        "1597\n"
       ]
      }
     ],
     "prompt_number": 28
    },
    {
     "cell_type": "code",
     "collapsed": false,
     "input": [
      "it=iter([1,2,3])\n",
      "it.next()"
     ],
     "language": "python",
     "metadata": {},
     "outputs": [
      {
       "metadata": {},
       "output_type": "pyout",
       "prompt_number": 29,
       "text": [
        "1"
       ]
      }
     ],
     "prompt_number": 29
    },
    {
     "cell_type": "code",
     "collapsed": false,
     "input": [
      "it.next()"
     ],
     "language": "python",
     "metadata": {},
     "outputs": [
      {
       "metadata": {},
       "output_type": "pyout",
       "prompt_number": 30,
       "text": [
        "2"
       ]
      }
     ],
     "prompt_number": 30
    },
    {
     "cell_type": "code",
     "collapsed": false,
     "input": [
      "#9.6.2 get sequence by iterator\n",
      "class TestIterator:\n",
      "    value=3\n",
      "    def next(self):\n",
      "        self.value+=1\n",
      "        if self.value>10:\n",
      "            raise StopIteration\n",
      "        return self.value\n",
      "    def __iter__(self):\n",
      "        return self"
     ],
     "language": "python",
     "metadata": {},
     "outputs": [],
     "prompt_number": 33
    },
    {
     "cell_type": "code",
     "collapsed": false,
     "input": [
      "ti=TestIterator()\n",
      "list(ti)"
     ],
     "language": "python",
     "metadata": {},
     "outputs": [
      {
       "metadata": {},
       "output_type": "pyout",
       "prompt_number": 34,
       "text": [
        "[4, 5, 6, 7, 8, 9, 10]"
       ]
      }
     ],
     "prompt_number": 34
    },
    {
     "cell_type": "code",
     "collapsed": false,
     "input": [
      "#9.7 generator\n",
      "#9.7.1 creat a generator\n",
      "nested=[[1,2],[3,4],[5]]\n",
      "def flatten(nested):\n",
      "    for sublist in nested:\n",
      "        for element in sublist:\n",
      "            yield element\n",
      "for num in flatten(nested):\n",
      "    print num"
     ],
     "language": "python",
     "metadata": {},
     "outputs": [
      {
       "output_type": "stream",
       "stream": "stdout",
       "text": [
        "1\n",
        "2\n",
        "3\n",
        "4\n",
        "5\n"
       ]
      }
     ],
     "prompt_number": 35
    },
    {
     "cell_type": "code",
     "collapsed": false,
     "input": [
      "list(flatten(nested))"
     ],
     "language": "python",
     "metadata": {},
     "outputs": [
      {
       "metadata": {},
       "output_type": "pyout",
       "prompt_number": 37,
       "text": [
        "[1, 2, 3, 4, 5]"
       ]
      }
     ],
     "prompt_number": 37
    },
    {
     "cell_type": "code",
     "collapsed": false,
     "input": [
      "#9.7.2 recursion generator\n",
      "def flatten(nested):\n",
      "    try:\n",
      "        for sublist in nested:\n",
      "            for element in flatten(sublist):\n",
      "                yield element\n",
      "    except TypeError:\n",
      "        yield nested"
     ],
     "language": "python",
     "metadata": {},
     "outputs": [],
     "prompt_number": 41
    },
    {
     "cell_type": "code",
     "collapsed": false,
     "input": [
      "list(flatten([[[1],2],3,4,[5,[6,7]],8]))"
     ],
     "language": "python",
     "metadata": {},
     "outputs": [
      {
       "metadata": {},
       "output_type": "pyout",
       "prompt_number": 42,
       "text": [
        "[1, 2, 3, 4, 5, 6, 7, 8]"
       ]
      }
     ],
     "prompt_number": 42
    },
    {
     "cell_type": "code",
     "collapsed": false,
     "input": [
      "def flatten(nested):\n",
      "    try:\n",
      "        try:\n",
      "            nested+''\n",
      "        except TypeError:\n",
      "            pass\n",
      "        else:\n",
      "            raise TypeError\n",
      "        for sublist in nested:\n",
      "            for element in flatten(sublist):\n",
      "                yield element\n",
      "    except TypeError:\n",
      "        yield nested"
     ],
     "language": "python",
     "metadata": {},
     "outputs": [],
     "prompt_number": 1
    },
    {
     "cell_type": "code",
     "collapsed": false,
     "input": [
      "list(flatten(['foo',['bar',['baz']]]))"
     ],
     "language": "python",
     "metadata": {},
     "outputs": [
      {
       "metadata": {},
       "output_type": "pyout",
       "prompt_number": 2,
       "text": [
        "['foo', 'bar', 'baz']"
       ]
      }
     ],
     "prompt_number": 2
    },
    {
     "cell_type": "code",
     "collapsed": false,
     "input": [
      "#9.7.3 generator\n",
      "def simple_generator():\n",
      "    yield 1\n",
      "simple_generator"
     ],
     "language": "python",
     "metadata": {},
     "outputs": [
      {
       "metadata": {},
       "output_type": "pyout",
       "prompt_number": 4,
       "text": [
        "<function __main__.simple_generator>"
       ]
      }
     ],
     "prompt_number": 4
    },
    {
     "cell_type": "code",
     "collapsed": false,
     "input": [
      "simple_generator()"
     ],
     "language": "python",
     "metadata": {},
     "outputs": [
      {
       "metadata": {},
       "output_type": "pyout",
       "prompt_number": 5,
       "text": [
        "<generator object simple_generator at 0x7f0a3c39ec80>"
       ]
      }
     ],
     "prompt_number": 5
    },
    {
     "cell_type": "code",
     "collapsed": false,
     "input": [
      "#9.7.4 generator function\n",
      "def repeater(value):\n",
      "    while True:\n",
      "        new=(yield value)\n",
      "        if new is not None:\n",
      "            value=new"
     ],
     "language": "python",
     "metadata": {},
     "outputs": [],
     "prompt_number": 6
    },
    {
     "cell_type": "code",
     "collapsed": false,
     "input": [
      "r=repeater(42)\n",
      "r.next()"
     ],
     "language": "python",
     "metadata": {},
     "outputs": [
      {
       "metadata": {},
       "output_type": "pyout",
       "prompt_number": 7,
       "text": [
        "42"
       ]
      }
     ],
     "prompt_number": 7
    },
    {
     "cell_type": "code",
     "collapsed": false,
     "input": [
      "r.send('Hello, world')"
     ],
     "language": "python",
     "metadata": {},
     "outputs": [
      {
       "metadata": {},
       "output_type": "pyout",
       "prompt_number": 8,
       "text": [
        "'Hello, world'"
       ]
      }
     ],
     "prompt_number": 8
    },
    {
     "cell_type": "code",
     "collapsed": false,
     "input": [
      "#9.7.5 simulator generator\n",
      "# result=[]\n",
      "# yield some_expression\n",
      "# result.append(some_expression)\n",
      "# return result\n",
      "\n",
      "def flatten(nested):\n",
      "    result=[]\n",
      "    try:\n",
      "        try:\n",
      "            nested+''\n",
      "        except TypeError:\n",
      "            pass\n",
      "        else:\n",
      "            raise TypeError\n",
      "        for sublist in nested:\n",
      "            for element in flatten(sublist):\n",
      "                result.append(element)\n",
      "    except TypeError:\n",
      "        result.append(nested)\n",
      "    return result"
     ],
     "language": "python",
     "metadata": {},
     "outputs": [],
     "prompt_number": 11
    },
    {
     "cell_type": "code",
     "collapsed": false,
     "input": [
      "list(flatten(['foo',['bar',['baz']]]))"
     ],
     "language": "python",
     "metadata": {},
     "outputs": [
      {
       "metadata": {},
       "output_type": "pyout",
       "prompt_number": 12,
       "text": [
        "['foo', 'bar', 'baz']"
       ]
      }
     ],
     "prompt_number": 12
    },
    {
     "cell_type": "code",
     "collapsed": false,
     "input": [
      "#9.8 eight queens problem\n",
      "def conflict(state,nextX):\n",
      "    nextY=len(state)\n",
      "    for i in range(nextY):\n",
      "        if abs(state[i]-nextX) in (0,nextY-i):\n",
      "            return True\n",
      "    return False\n",
      "\n",
      "def queens(num,state):\n",
      "    if len(state)==num-1:\n",
      "        for pos in range(num):\n",
      "            if not conflict(state,pos):\n",
      "                yield pos"
     ],
     "language": "python",
     "metadata": {},
     "outputs": [],
     "prompt_number": 1
    },
    {
     "cell_type": "code",
     "collapsed": false,
     "input": [
      "list(queens(4,(1,3,0))) # -> 2"
     ],
     "language": "python",
     "metadata": {},
     "outputs": [
      {
       "metadata": {},
       "output_type": "pyout",
       "prompt_number": 2,
       "text": [
        "[2]"
       ]
      }
     ],
     "prompt_number": 2
    },
    {
     "cell_type": "code",
     "collapsed": false,
     "input": [
      "def queens(num,state):\n",
      "    if len(state)==num-1:\n",
      "        for pos in range(num):\n",
      "            if not conflict(state,pos):\n",
      "                yield pos\n",
      "            else:\n",
      "                for pos in range(num):\n",
      "                    if not conflict(state,pos):\n",
      "                        for result in queens(num,state+(pos,)):\n",
      "                            yield (pos,)+result"
     ],
     "language": "python",
     "metadata": {},
     "outputs": [],
     "prompt_number": 3
    },
    {
     "cell_type": "code",
     "collapsed": false,
     "input": [
      "def queens(num=8,state=()):\n",
      "    for pos in range(num):\n",
      "        if not conflict(state,pos):\n",
      "            if len(state)==num-1:\n",
      "                yield (pos,)\n",
      "            else:\n",
      "                for result in queens(num,state+(pos,)):\n",
      "                    yield (pos,)+result"
     ],
     "language": "python",
     "metadata": {},
     "outputs": [],
     "prompt_number": 4
    },
    {
     "cell_type": "code",
     "collapsed": false,
     "input": [
      "list(queens(3))"
     ],
     "language": "python",
     "metadata": {},
     "outputs": [
      {
       "metadata": {},
       "output_type": "pyout",
       "prompt_number": 5,
       "text": [
        "[]"
       ]
      }
     ],
     "prompt_number": 5
    },
    {
     "cell_type": "code",
     "collapsed": false,
     "input": [
      "list(queens(4))"
     ],
     "language": "python",
     "metadata": {},
     "outputs": [
      {
       "metadata": {},
       "output_type": "pyout",
       "prompt_number": 6,
       "text": [
        "[(1, 3, 0, 2), (2, 0, 3, 1)]"
       ]
      }
     ],
     "prompt_number": 6
    },
    {
     "cell_type": "code",
     "collapsed": false,
     "input": [
      "for solution in queens(8):\n",
      "    print solution"
     ],
     "language": "python",
     "metadata": {},
     "outputs": [
      {
       "output_type": "stream",
       "stream": "stdout",
       "text": [
        "(0, 4, 7, 5, 2, 6, 1, 3)\n",
        "(0, 5, 7, 2, 6, 3, 1, 4)\n",
        "(0, 6, 3, 5, 7, 1, 4, 2)\n",
        "(0, 6, 4, 7, 1, 3, 5, 2)\n",
        "(1, 3, 5, 7, 2, 0, 6, 4)\n",
        "(1, 4, 6, 0, 2, 7, 5, 3)\n",
        "(1, 4, 6, 3, 0, 7, 5, 2)\n",
        "(1, 5, 0, 6, 3, 7, 2, 4)\n",
        "(1, 5, 7, 2, 0, 3, 6, 4)\n",
        "(1, 6, 2, 5, 7, 4, 0, 3)\n",
        "(1, 6, 4, 7, 0, 3, 5, 2)\n",
        "(1, 7, 5, 0, 2, 4, 6, 3)\n",
        "(2, 0, 6, 4, 7, 1, 3, 5)\n",
        "(2, 4, 1, 7, 0, 6, 3, 5)\n",
        "(2, 4, 1, 7, 5, 3, 6, 0)\n",
        "(2, 4, 6, 0, 3, 1, 7, 5)\n",
        "(2, 4, 7, 3, 0, 6, 1, 5)\n",
        "(2, 5, 1, 4, 7, 0, 6, 3)\n",
        "(2, 5, 1, 6, 0, 3, 7, 4)\n",
        "(2, 5, 1, 6, 4, 0, 7, 3)\n",
        "(2, 5, 3, 0, 7, 4, 6, 1)\n",
        "(2, 5, 3, 1, 7, 4, 6, 0)\n",
        "(2, 5, 7, 0, 3, 6, 4, 1)\n",
        "(2, 5, 7, 0, 4, 6, 1, 3)\n",
        "(2, 5, 7, 1, 3, 0, 6, 4)\n",
        "(2, 6, 1, 7, 4, 0, 3, 5)\n",
        "(2, 6, 1, 7, 5, 3, 0, 4)\n",
        "(2, 7, 3, 6, 0, 5, 1, 4)\n",
        "(3, 0, 4, 7, 1, 6, 2, 5)\n",
        "(3, 0, 4, 7, 5, 2, 6, 1)\n",
        "(3, 1, 4, 7, 5, 0, 2, 6)\n",
        "(3, 1, 6, 2, 5, 7, 0, 4)\n",
        "(3, 1, 6, 2, 5, 7, 4, 0)\n",
        "(3, 1, 6, 4, 0, 7, 5, 2)\n",
        "(3, 1, 7, 4, 6, 0, 2, 5)\n",
        "(3, 1, 7, 5, 0, 2, 4, 6)\n",
        "(3, 5, 0, 4, 1, 7, 2, 6)\n",
        "(3, 5, 7, 1, 6, 0, 2, 4)\n",
        "(3, 5, 7, 2, 0, 6, 4, 1)\n",
        "(3, 6, 0, 7, 4, 1, 5, 2)\n",
        "(3, 6, 2, 7, 1, 4, 0, 5)\n",
        "(3, 6, 4, 1, 5, 0, 2, 7)\n",
        "(3, 6, 4, 2, 0, 5, 7, 1)\n",
        "(3, 7, 0, 2, 5, 1, 6, 4)\n",
        "(3, 7, 0, 4, 6, 1, 5, 2)\n",
        "(3, 7, 4, 2, 0, 6, 1, 5)\n",
        "(4, 0, 3, 5, 7, 1, 6, 2)\n",
        "(4, 0, 7, 3, 1, 6, 2, 5)\n",
        "(4, 0, 7, 5, 2, 6, 1, 3)\n",
        "(4, 1, 3, 5, 7, 2, 0, 6)\n",
        "(4, 1, 3, 6, 2, 7, 5, 0)\n",
        "(4, 1, 5, 0, 6, 3, 7, 2)\n",
        "(4, 1, 7, 0, 3, 6, 2, 5)\n",
        "(4, 2, 0, 5, 7, 1, 3, 6)\n",
        "(4, 2, 0, 6, 1, 7, 5, 3)\n",
        "(4, 2, 7, 3, 6, 0, 5, 1)\n",
        "(4, 6, 0, 2, 7, 5, 3, 1)\n",
        "(4, 6, 0, 3, 1, 7, 5, 2)\n",
        "(4, 6, 1, 3, 7, 0, 2, 5)\n",
        "(4, 6, 1, 5, 2, 0, 3, 7)\n",
        "(4, 6, 1, 5, 2, 0, 7, 3)\n",
        "(4, 6, 3, 0, 2, 7, 5, 1)\n",
        "(4, 7, 3, 0, 2, 5, 1, 6)\n",
        "(4, 7, 3, 0, 6, 1, 5, 2)\n",
        "(5, 0, 4, 1, 7, 2, 6, 3)\n",
        "(5, 1, 6, 0, 2, 4, 7, 3)\n",
        "(5, 1, 6, 0, 3, 7, 4, 2)\n",
        "(5, 2, 0, 6, 4, 7, 1, 3)\n",
        "(5, 2, 0, 7, 3, 1, 6, 4)\n",
        "(5, 2, 0, 7, 4, 1, 3, 6)\n",
        "(5, 2, 4, 6, 0, 3, 1, 7)\n",
        "(5, 2, 4, 7, 0, 3, 1, 6)\n",
        "(5, 2, 6, 1, 3, 7, 0, 4)\n",
        "(5, 2, 6, 1, 7, 4, 0, 3)\n",
        "(5, 2, 6, 3, 0, 7, 1, 4)\n",
        "(5, 3, 0, 4, 7, 1, 6, 2)\n",
        "(5, 3, 1, 7, 4, 6, 0, 2)\n",
        "(5, 3, 6, 0, 2, 4, 1, 7)\n",
        "(5, 3, 6, 0, 7, 1, 4, 2)\n",
        "(5, 7, 1, 3, 0, 6, 4, 2)\n",
        "(6, 0, 2, 7, 5, 3, 1, 4)\n",
        "(6, 1, 3, 0, 7, 4, 2, 5)\n",
        "(6, 1, 5, 2, 0, 3, 7, 4)\n",
        "(6, 2, 0, 5, 7, 4, 1, 3)\n",
        "(6, 2, 7, 1, 4, 0, 5, 3)\n",
        "(6, 3, 1, 4, 7, 0, 2, 5)\n",
        "(6, 3, 1, 7, 5, 0, 2, 4)\n",
        "(6, 4, 2, 0, 5, 7, 1, 3)\n",
        "(7, 1, 3, 0, 6, 4, 2, 5)\n",
        "(7, 1, 4, 2, 0, 6, 3, 5)\n",
        "(7, 2, 0, 5, 1, 4, 6, 3)\n",
        "(7, 3, 0, 2, 5, 1, 6, 4)\n"
       ]
      }
     ],
     "prompt_number": 7
    },
    {
     "cell_type": "code",
     "collapsed": false,
     "input": [
      "len(list(queens(8)))"
     ],
     "language": "python",
     "metadata": {},
     "outputs": [
      {
       "metadata": {},
       "output_type": "pyout",
       "prompt_number": 8,
       "text": [
        "92"
       ]
      }
     ],
     "prompt_number": 8
    },
    {
     "cell_type": "code",
     "collapsed": false,
     "input": [
      "def prettyprint(solution):\n",
      "    def line(pos,length=len(solution)):\n",
      "        return '. '*(pos)+'X'+'. '*(length-pos-1)\n",
      "    for pos in solution:\n",
      "        print line(pos)"
     ],
     "language": "python",
     "metadata": {},
     "outputs": [],
     "prompt_number": 9
    },
    {
     "cell_type": "code",
     "collapsed": false,
     "input": [
      "import random\n",
      "prettyprint(random.choice(list(queens(8))))"
     ],
     "language": "python",
     "metadata": {},
     "outputs": [
      {
       "output_type": "stream",
       "stream": "stdout",
       "text": [
        ". . X. . . . . \n",
        ". . . . X. . . \n",
        ". X. . . . . . \n",
        ". . . . . . . X\n",
        ". . . . . X. . \n",
        ". . . X. . . . \n",
        ". . . . . . X. \n",
        "X. . . . . . . \n"
       ]
      }
     ],
     "prompt_number": 10
    },
    {
     "cell_type": "code",
     "collapsed": false,
     "input": [],
     "language": "python",
     "metadata": {},
     "outputs": []
    }
   ],
   "metadata": {}
  }
 ]
}