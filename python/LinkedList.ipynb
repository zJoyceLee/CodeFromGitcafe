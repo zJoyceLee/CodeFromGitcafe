{
 "metadata": {
  "name": ""
 },
 "nbformat": 3,
 "nbformat_minor": 0,
 "worksheets": [
  {
   "cells": [
    {
     "cell_type": "code",
     "collapsed": false,
     "input": [
      "class LinkedListNode:\n",
      "    def __init__(self,value,p):\n",
      "        self.data=value\n",
      "        self.next=p\n",
      "class LinkedList:\n",
      "    def __init__(self):\n",
      "        self.head=0\n",
      "    def __getitem__(self,key):\n",
      "        if self.is_empty():\n",
      "            print 'LinkedList is empty.'\n",
      "            return\n",
      "        elif key<0 or key>self.getlength():\n",
      "            print 'The key is error.'\n",
      "            return\n",
      "        else:\n",
      "            return self.getitem(key)\n",
      "    def __setitem__(self,key,value):\n",
      "        \n",
      "    "
     ],
     "language": "python",
     "metadata": {},
     "outputs": []
    }
   ],
   "metadata": {}
  }
 ]
}