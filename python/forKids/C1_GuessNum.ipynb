{
 "metadata": {
  "name": ""
 },
 "nbformat": 3,
 "nbformat_minor": 0,
 "worksheets": [
  {
   "cells": [
    {
     "cell_type": "code",
     "collapsed": false,
     "input": [
      "import random\n",
      "secret=random.randint(1,100)\n",
      "guess=0\n",
      "tries=0\n",
      "print('AHOY!I am joyce lee,and I have a secret')\n",
      "print('it\\'s a num from 1 to 99 ,I will give you 6 tries.')\n",
      "\n",
      "while guess!=secret and tries<6:\n",
      "    guess=int(input('What\\'s your guess?'))\n",
      "    if guess<secret:\n",
      "        print('too low,ye scurvy dog!')\n",
      "    elif guess>secret:\n",
      "        print('too high,landlubber!')\n",
      "    tries=tries+1\n",
      "if guess==secret:\n",
      "    print('Avast!Ye got it!Found my secret,ye did!')\n",
      "else:\n",
      "    print('No more guesses!Better luck next time,matey!')\n",
      "    print('my secret number was',secret)"
     ],
     "language": "python",
     "metadata": {},
     "outputs": []
    }
   ],
   "metadata": {}
  }
 ]
}