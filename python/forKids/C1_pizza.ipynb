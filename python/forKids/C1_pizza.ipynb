{
 "metadata": {
  "name": ""
 },
 "nbformat": 3,
 "nbformat_minor": 0,
 "worksheets": [
  {
   "cells": [
    {
     "cell_type": "code",
     "collapsed": false,
     "input": [
      "print('I love pizza')\n",
      "print('pizza '*20)\n",
      "print('yum '*40)\n",
      "print('I am full')\n",
      "print('\\n')\n",
      "\n",
      "print('Hello,and welcome to python')\n",
      "print('I hope you will enjoy learning to program')\n",
      "print('By for now!'+5)\n",
      "print('\\n')"
     ],
     "language": "python",
     "metadata": {},
     "outputs": []
    }
   ],
   "metadata": {}
  }
 ]
}