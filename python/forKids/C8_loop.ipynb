{
 "metadata": {
  "name": ""
 },
 "nbformat": 3,
 "nbformat_minor": 0,
 "worksheets": [
  {
   "cells": [
    {
     "cell_type": "code",
     "collapsed": false,
     "input": [
      "#counting loop\n",
      "for looper in [1, 2, 3, 4, 5]:\n",
      "    print \"Hello\""
     ],
     "language": "python",
     "metadata": {},
     "outputs": [
      {
       "output_type": "stream",
       "stream": "stdout",
       "text": [
        "Hello\n",
        "Hello\n",
        "Hello\n",
        "Hello\n",
        "Hello\n"
       ]
      }
     ],
     "prompt_number": 1
    },
    {
     "cell_type": "code",
     "collapsed": false,
     "input": [
      "for looper in [1, 2, 3, 4, 5]:\n",
      "    print looper"
     ],
     "language": "python",
     "metadata": {},
     "outputs": [
      {
       "output_type": "stream",
       "stream": "stdout",
       "text": [
        "1\n",
        "2\n",
        "3\n",
        "4\n",
        "5\n"
       ]
      }
     ],
     "prompt_number": 3
    },
    {
     "cell_type": "code",
     "collapsed": false,
     "input": [
      "for looper in [1, 2, 3, 4, 5]:\n",
      "    print looper, \"time 8 = \", looper * 8"
     ],
     "language": "python",
     "metadata": {},
     "outputs": [
      {
       "output_type": "stream",
       "stream": "stdout",
       "text": [
        "1 time 8 =  8\n",
        "2 time 8 =  16\n",
        "3 time 8 =  24\n",
        "4 time 8 =  32\n",
        "5 time 8 =  40\n"
       ]
      }
     ],
     "prompt_number": 4
    },
    {
     "cell_type": "code",
     "collapsed": false,
     "input": [
      "for looper in range(1, 5):\n",
      "    print looper, \"times 8 = \", looper * 8"
     ],
     "language": "python",
     "metadata": {},
     "outputs": [
      {
       "output_type": "stream",
       "stream": "stdout",
       "text": [
        "1 times 8 =  8\n",
        "2 times 8 =  16\n",
        "3 times 8 =  24\n",
        "4 times 8 =  32\n"
       ]
      }
     ],
     "prompt_number": 5
    },
    {
     "cell_type": "code",
     "collapsed": false,
     "input": [
      "for looper in range(1, 11):\n",
      "    print looper, \"times 8 = \", looper * 8"
     ],
     "language": "python",
     "metadata": {},
     "outputs": [
      {
       "output_type": "stream",
       "stream": "stdout",
       "text": [
        "1 times 8 =  8\n",
        "2 times 8 =  16\n",
        "3 times 8 =  24\n",
        "4 times 8 =  32\n",
        "5 times 8 =  40\n",
        "6 times 8 =  48\n",
        "7 times 8 =  56\n",
        "8 times 8 =  64\n",
        "9 times 8 =  72\n",
        "10 times 8 =  80\n"
       ]
      }
     ],
     "prompt_number": 6
    },
    {
     "cell_type": "code",
     "collapsed": false,
     "input": [
      "for i in range(1, 5):\n",
      "    print i, \"times 8 = \", i * 8"
     ],
     "language": "python",
     "metadata": {},
     "outputs": [
      {
       "output_type": "stream",
       "stream": "stdout",
       "text": [
        "1 times 8 =  8\n",
        "2 times 8 =  16\n",
        "3 times 8 =  24\n",
        "4 times 8 =  32\n"
       ]
      }
     ],
     "prompt_number": 7
    },
    {
     "cell_type": "code",
     "collapsed": false,
     "input": [
      "#range()\n",
      "#for i in range(0, 5):\n",
      "for i in range(5):\n",
      "    print i"
     ],
     "language": "python",
     "metadata": {},
     "outputs": [
      {
       "output_type": "stream",
       "stream": "stdout",
       "text": [
        "0\n",
        "1\n",
        "2\n",
        "3\n",
        "4\n"
       ]
      }
     ],
     "prompt_number": 8
    },
    {
     "cell_type": "code",
     "collapsed": false,
     "input": [
      "for letter in \"Hi there\":\n",
      "    print letter"
     ],
     "language": "python",
     "metadata": {},
     "outputs": [
      {
       "output_type": "stream",
       "stream": "stdout",
       "text": [
        "H\n",
        "i\n",
        " \n",
        "t\n",
        "h\n",
        "e\n",
        "r\n",
        "e\n"
       ]
      }
     ],
     "prompt_number": 9
    },
    {
     "cell_type": "code",
     "collapsed": false,
     "input": [
      "for i in range(1, 10, 3):\n",
      "    print i"
     ],
     "language": "python",
     "metadata": {},
     "outputs": [
      {
       "output_type": "stream",
       "stream": "stdout",
       "text": [
        "1\n",
        "4\n",
        "7\n"
       ]
      }
     ],
     "prompt_number": 10
    },
    {
     "cell_type": "code",
     "collapsed": false,
     "input": [
      "for i in range(5, 26, 5):\n",
      "    print i"
     ],
     "language": "python",
     "metadata": {},
     "outputs": [
      {
       "output_type": "stream",
       "stream": "stdout",
       "text": [
        "5\n",
        "10\n",
        "15\n",
        "20\n",
        "25\n"
       ]
      }
     ],
     "prompt_number": 11
    },
    {
     "cell_type": "code",
     "collapsed": false,
     "input": [
      "#reverse count\n",
      "for i in range(10, 1, -1):\n",
      "    print i\n",
      "#10 9 8 7 \u2026\u2026 3 2 count untill 2"
     ],
     "language": "python",
     "metadata": {},
     "outputs": [
      {
       "output_type": "stream",
       "stream": "stdout",
       "text": [
        "10\n",
        "9\n",
        "8\n",
        "7\n",
        "6\n",
        "5\n",
        "4\n",
        "3\n",
        "2\n"
       ]
      }
     ],
     "prompt_number": 12
    },
    {
     "cell_type": "code",
     "collapsed": false,
     "input": [
      "#count untill 1\n",
      "import time\n",
      "for i in range (10, 0, -1):\n",
      "    print i\n",
      "    time.sleep(1)\n",
      "print \"Blast off!\"\n",
      "#the rate is very slow, maybe because of sleep(1)"
     ],
     "language": "python",
     "metadata": {},
     "outputs": [
      {
       "output_type": "stream",
       "stream": "stdout",
       "text": [
        "10\n",
        "9"
       ]
      },
      {
       "output_type": "stream",
       "stream": "stdout",
       "text": [
        "\n",
        "8"
       ]
      },
      {
       "output_type": "stream",
       "stream": "stdout",
       "text": [
        "\n",
        "7"
       ]
      },
      {
       "output_type": "stream",
       "stream": "stdout",
       "text": [
        "\n",
        "6"
       ]
      },
      {
       "output_type": "stream",
       "stream": "stdout",
       "text": [
        "\n",
        "5"
       ]
      },
      {
       "output_type": "stream",
       "stream": "stdout",
       "text": [
        "\n",
        "4"
       ]
      },
      {
       "output_type": "stream",
       "stream": "stdout",
       "text": [
        "\n",
        "3"
       ]
      },
      {
       "output_type": "stream",
       "stream": "stdout",
       "text": [
        "\n",
        "2"
       ]
      },
      {
       "output_type": "stream",
       "stream": "stdout",
       "text": [
        "\n",
        "1"
       ]
      },
      {
       "output_type": "stream",
       "stream": "stdout",
       "text": [
        "\n",
        "Blast off!"
       ]
      },
      {
       "output_type": "stream",
       "stream": "stdout",
       "text": [
        "\n"
       ]
      }
     ],
     "prompt_number": 13
    },
    {
     "cell_type": "code",
     "collapsed": false,
     "input": [
      "import time\n",
      "for i in range (10, 0, -1):\n",
      "    print i\n",
      "    time.sleep(0)\n",
      "print \"Blast off!\"\n",
      "#yeah ,now I am sure it is because sleep(1)"
     ],
     "language": "python",
     "metadata": {},
     "outputs": [
      {
       "output_type": "stream",
       "stream": "stdout",
       "text": [
        "10\n",
        "9\n",
        "8\n",
        "7\n",
        "6\n",
        "5\n",
        "4\n",
        "3\n",
        "2\n",
        "1\n",
        "Blast off!\n"
       ]
      }
     ],
     "prompt_number": 14
    },
    {
     "cell_type": "code",
     "collapsed": false,
     "input": [
      "for cool_guy in [\"Spongebob\", \"Spiderman\", \"Justin Timberlake\", \"My Dad\"]:\n",
      "    print cool_guy, \"is the coolest guy ever!\""
     ],
     "language": "python",
     "metadata": {},
     "outputs": [
      {
       "output_type": "stream",
       "stream": "stdout",
       "text": [
        "Spongebob is the coolest guy ever!\n",
        "Spiderman is the coolest guy ever!\n",
        "Justin Timberlake is the coolest guy ever!\n",
        "My Dad is the coolest guy ever!\n"
       ]
      }
     ],
     "prompt_number": 15
    },
    {
     "cell_type": "code",
     "collapsed": false,
     "input": [
      "#conditional loop --> keyword:while\n",
      "print \"Type 3 to continue, anything else to quit.\"\n",
      "someInput = raw_input()\n",
      "while someInput == '3':\n",
      "    print \"Thank you for the 3. Very kind of you.\"\n",
      "    print \"Type 3 to continue, anything else to quit.\"\n",
      "    someInput = raw_input()\n",
      "print \"That's not 3, so I am quiting now.\""
     ],
     "language": "python",
     "metadata": {},
     "outputs": [
      {
       "output_type": "stream",
       "stream": "stdout",
       "text": [
        "Type 3 to continue, anything else to quit.\n"
       ]
      },
      {
       "name": "stdout",
       "output_type": "stream",
       "stream": "stdout",
       "text": [
        "3\n"
       ]
      },
      {
       "output_type": "stream",
       "stream": "stdout",
       "text": [
        "Thank you for the 3. Very kind of you.\n",
        "Type 3 to continue, anything else to quit.\n"
       ]
      },
      {
       "name": "stdout",
       "output_type": "stream",
       "stream": "stdout",
       "text": [
        "3\n"
       ]
      },
      {
       "output_type": "stream",
       "stream": "stdout",
       "text": [
        "Thank you for the 3. Very kind of you.\n",
        "Type 3 to continue, anything else to quit.\n"
       ]
      },
      {
       "name": "stdout",
       "output_type": "stream",
       "stream": "stdout",
       "text": [
        "1\n"
       ]
      },
      {
       "output_type": "stream",
       "stream": "stdout",
       "text": [
        "That's not 3, so I am quiting now.\n"
       ]
      }
     ],
     "prompt_number": 16
    },
    {
     "cell_type": "code",
     "collapsed": false,
     "input": [
      "# continue\n",
      "for i in range (1, 6):\n",
      "    print\n",
      "    print 'i =' ,i\n",
      "    print 'Hello, how',\n",
      "    if i == 3:\n",
      "        continue\n",
      "    print 'are you today?'"
     ],
     "language": "python",
     "metadata": {},
     "outputs": [
      {
       "output_type": "stream",
       "stream": "stdout",
       "text": [
        "\n",
        "i = 1\n",
        "Hello, how are you today?\n",
        "\n",
        "i = 2\n",
        "Hello, how are you today?\n",
        "\n",
        "i = 3\n",
        "Hello, how\n",
        "i = 4\n",
        "Hello, how are you today?\n",
        "\n",
        "i = 5\n",
        "Hello, how are you today?\n"
       ]
      }
     ],
     "prompt_number": 17
    },
    {
     "cell_type": "code",
     "collapsed": false,
     "input": [
      "# break\n",
      "for i in range (1, 6):\n",
      "    print\n",
      "    print 'i =' ,i\n",
      "    print 'Hello, how',\n",
      "    if i == 3:\n",
      "        break\n",
      "    print 'are you today?'"
     ],
     "language": "python",
     "metadata": {},
     "outputs": [
      {
       "output_type": "stream",
       "stream": "stdout",
       "text": [
        "\n",
        "i = 1\n",
        "Hello, how are you today?\n",
        "\n",
        "i = 2\n",
        "Hello, how are you today?\n",
        "\n",
        "i = 3\n",
        "Hello, how\n"
       ]
      }
     ],
     "prompt_number": 18
    },
    {
     "cell_type": "code",
     "collapsed": false,
     "input": [
      "# practice: do with counting loop\n",
      "print \"Which multiplication table would you like?\"\n",
      "num = int(raw_input())\n",
      "print \"Here is your table: \"\n",
      "for i in range (1, 10):\n",
      "    print num, \"*\", i, \"=\", num * i"
     ],
     "language": "python",
     "metadata": {},
     "outputs": [
      {
       "output_type": "stream",
       "stream": "stdout",
       "text": [
        "Which multiplication table would you like?\n"
       ]
      },
      {
       "name": "stdout",
       "output_type": "stream",
       "stream": "stdout",
       "text": [
        "5\n"
       ]
      },
      {
       "output_type": "stream",
       "stream": "stdout",
       "text": [
        "Here is your table: \n",
        "5 * 1 = 5\n",
        "5 * 2 = 10\n",
        "5 * 3 = 15\n",
        "5 * 4 = 20\n",
        "5 * 5 = 25\n",
        "5 * 6 = 30\n",
        "5 * 7 = 35\n",
        "5 * 8 = 40\n",
        "5 * 9 = 45\n"
       ]
      }
     ],
     "prompt_number": 20
    },
    {
     "cell_type": "code",
     "collapsed": false,
     "input": [
      "# practice: do with conditional loop\n",
      "print \"Which multiplication table would you like?\"\n",
      "num = int(raw_input())\n",
      "print \"How high do you want to go?\"\n",
      "highNum = int(raw_input())\n",
      "print \"Here is your table: \"\n",
      "#there i can no\n",
      "i = 1\n",
      "while i <= highNum:\n",
      "    print num, \"*\", i, \"=\", num * i\n",
      "    i = i + 1\n",
      "    # \"++i\" is not allowed"
     ],
     "language": "python",
     "metadata": {},
     "outputs": [
      {
       "output_type": "stream",
       "stream": "stdout",
       "text": [
        "Which multiplication table would you like?\n"
       ]
      },
      {
       "name": "stdout",
       "output_type": "stream",
       "stream": "stdout",
       "text": [
        "7\n"
       ]
      },
      {
       "output_type": "stream",
       "stream": "stdout",
       "text": [
        "How high do you want to go?\n"
       ]
      },
      {
       "name": "stdout",
       "output_type": "stream",
       "stream": "stdout",
       "text": [
        "12\n"
       ]
      },
      {
       "output_type": "stream",
       "stream": "stdout",
       "text": [
        "Here is your table: \n",
        "7 * 1 = 7\n",
        "7 * 2 = 14\n",
        "7 * 3 = 21\n",
        "7 * 4 = 28\n",
        "7 * 5 = 35\n",
        "7 * 6 = 42\n",
        "7 * 7 = 49\n",
        "7 * 8 = 56\n",
        "7 * 9 = 63\n",
        "7 * 10 = 70\n",
        "7 * 11 = 77\n",
        "7 * 12 = 84\n"
       ]
      }
     ],
     "prompt_number": 24
    },
    {
     "cell_type": "code",
     "collapsed": false,
     "input": [],
     "language": "python",
     "metadata": {},
     "outputs": []
    }
   ],
   "metadata": {}
  }
 ]
}