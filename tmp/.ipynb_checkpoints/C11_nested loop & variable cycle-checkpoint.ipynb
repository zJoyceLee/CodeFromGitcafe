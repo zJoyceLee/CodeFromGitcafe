{
 "metadata": {
  "name": ""
 },
 "nbformat": 3,
 "nbformat_minor": 0,
 "worksheets": [
  {
   "cells": [
    {
     "cell_type": "code",
     "collapsed": false,
     "input": [
      "multiplier=5\n",
      "for i in range (1,11):\n",
      "    print i,\"x\",multiplier,\"=\",i*multiplier"
     ],
     "language": "python",
     "metadata": {},
     "outputs": [
      {
       "output_type": "stream",
       "stream": "stdout",
       "text": [
        "1 x 5 = 5\n",
        "2 x 5 = 10\n",
        "3 x 5 = 15\n",
        "4 x 5 = 20\n",
        "5 x 5 = 25\n",
        "6 x 5 = 30\n",
        "7 x 5 = 35\n",
        "8 x 5 = 40\n",
        "9 x 5 = 45\n",
        "10 x 5 = 50\n"
       ]
      }
     ],
     "prompt_number": 1
    },
    {
     "cell_type": "code",
     "collapsed": false,
     "input": [
      "#multiplier=5\n",
      "for multiplier in range (5,8):\n",
      "    for i in range (1,11):\n",
      "        print i,\"x\",multiplier,\"=\",i*multiplier\n",
      "    print#print space"
     ],
     "language": "python",
     "metadata": {},
     "outputs": [
      {
       "output_type": "stream",
       "stream": "stdout",
       "text": [
        "1 x 5 = 5\n",
        "2 x 5 = 10\n",
        "3 x 5 = 15\n",
        "4 x 5 = 20\n",
        "5 x 5 = 25\n",
        "6 x 5 = 30\n",
        "7 x 5 = 35\n",
        "8 x 5 = 40\n",
        "9 x 5 = 45\n",
        "10 x 5 = 50\n",
        "\n",
        "1 x 6 = 6\n",
        "2 x 6 = 12\n",
        "3 x 6 = 18\n",
        "4 x 6 = 24\n",
        "5 x 6 = 30\n",
        "6 x 6 = 36\n",
        "7 x 6 = 42\n",
        "8 x 6 = 48\n",
        "9 x 6 = 54\n",
        "10 x 6 = 60\n",
        "\n",
        "1 x 7 = 7\n",
        "2 x 7 = 14\n",
        "3 x 7 = 21\n",
        "4 x 7 = 28\n",
        "5 x 7 = 35\n",
        "6 x 7 = 42\n",
        "7 x 7 = 49\n",
        "8 x 7 = 56\n",
        "9 x 7 = 63\n",
        "10 x 7 = 70\n",
        "\n"
       ]
      }
     ],
     "prompt_number": 4
    },
    {
     "cell_type": "code",
     "collapsed": false,
     "input": [
      "numStars=int(raw_input(\"How many stars do you want?\"))\n",
      "for i in range(0,numStars):\n",
      "    print '*',"
     ],
     "language": "python",
     "metadata": {},
     "outputs": [
      {
       "name": "stdout",
       "output_type": "stream",
       "stream": "stdout",
       "text": [
        "How many stars do you want?5\n"
       ]
      },
      {
       "output_type": "stream",
       "stream": "stdout",
       "text": [
        "* * * * *\n"
       ]
      }
     ],
     "prompt_number": 6
    },
    {
     "cell_type": "code",
     "collapsed": false,
     "input": [
      "#variable nested loop\n",
      "numLines=int(raw_input(\"How many lines of stars do you want?\"))\n",
      "numStars=int(raw_input(\"How many stars per line?\"))\n",
      "for line in range(0,numLines):\n",
      "    for star in range(0,numStars):\n",
      "        print '*',\n",
      "    print"
     ],
     "language": "python",
     "metadata": {},
     "outputs": [
      {
       "name": "stdout",
       "output_type": "stream",
       "stream": "stdout",
       "text": [
        "How many lines of stars do you want?3\n"
       ]
      },
      {
       "name": "stdout",
       "output_type": "stream",
       "stream": "stdout",
       "text": [
        "How many stars per line?5\n"
       ]
      },
      {
       "output_type": "stream",
       "stream": "stdout",
       "text": [
        "* * * * *\n",
        "* * * * *\n",
        "* * * * *\n"
       ]
      }
     ],
     "prompt_number": 7
    },
    {
     "cell_type": "code",
     "collapsed": false,
     "input": [
      "numBlocks=int(raw_input(\"How many blocks of stars do you want?\"))\n",
      "numLines=int(raw_input(\"How many lines of stars do you want?\"))\n",
      "numStars=int(raw_input(\"How many stars per line?\"))\n",
      "for block in range(0,numBlocks):\n",
      "    for line in range(0,numLines):\n",
      "        for star in range(0,numStars):\n",
      "            print '*',\n",
      "        print\n",
      "    print\n",
      "#the depth of the variable nested loop is 3"
     ],
     "language": "python",
     "metadata": {},
     "outputs": [
      {
       "name": "stdout",
       "output_type": "stream",
       "stream": "stdout",
       "text": [
        "How many blocks of stars do you want?3\n"
       ]
      },
      {
       "name": "stdout",
       "output_type": "stream",
       "stream": "stdout",
       "text": [
        "How many lines of stars do you want?4\n"
       ]
      },
      {
       "name": "stdout",
       "output_type": "stream",
       "stream": "stdout",
       "text": [
        "How many stars per line?8\n"
       ]
      },
      {
       "output_type": "stream",
       "stream": "stdout",
       "text": [
        "* * * * * * * *\n",
        "* * * * * * * *\n",
        "* * * * * * * *\n",
        "* * * * * * * *\n",
        "\n",
        "* * * * * * * *\n",
        "* * * * * * * *\n",
        "* * * * * * * *\n",
        "* * * * * * * *\n",
        "\n",
        "* * * * * * * *\n",
        "* * * * * * * *\n",
        "* * * * * * * *\n",
        "* * * * * * * *\n",
        "\n"
       ]
      }
     ],
     "prompt_number": 9
    },
    {
     "cell_type": "code",
     "collapsed": false,
     "input": [
      "numBlocks=int(raw_input(\"How many blocks of stars do you want?\"))\n",
      "for block in range(1,numBlocks+1):\n",
      "    for line in range(1,block*2):\n",
      "        for star in range(1,(block+line)*2):\n",
      "            print '*',\n",
      "        print\n",
      "    print"
     ],
     "language": "python",
     "metadata": {},
     "outputs": [
      {
       "name": "stdout",
       "output_type": "stream",
       "stream": "stdout",
       "text": [
        "How many blocks of stars do you want?3\n"
       ]
      },
      {
       "output_type": "stream",
       "stream": "stdout",
       "text": [
        "* * *\n",
        "\n",
        "* * * * *\n",
        "* * * * * * *\n",
        "* * * * * * * * *\n",
        "\n",
        "* * * * * * *\n",
        "* * * * * * * * *\n",
        "* * * * * * * * * * *\n",
        "* * * * * * * * * * * * *\n",
        "* * * * * * * * * * * * * * *\n",
        "\n"
       ]
      }
     ],
     "prompt_number": 10
    },
    {
     "cell_type": "code",
     "collapsed": false,
     "input": [
      "numBlocks=int(raw_input(\"How many blocks of stars do you want?\"))\n",
      "for block in range(1,numBlocks+1):\n",
      "    print 'block=',block\n",
      "    for line in range(1,block*2):\n",
      "        for star in range(1,(block+line)*2):\n",
      "            print '*',\n",
      "        print' line=',line,'star=',star\n",
      "    print"
     ],
     "language": "python",
     "metadata": {},
     "outputs": [
      {
       "name": "stdout",
       "output_type": "stream",
       "stream": "stdout",
       "text": [
        "How many blocks of stars do you want?3\n"
       ]
      },
      {
       "output_type": "stream",
       "stream": "stdout",
       "text": [
        " block= 1\n",
        "* * *  line= 1 star= 3\n",
        "\n",
        "block= 2\n",
        "* * * * *  line= 1 star= 5\n",
        "* * * * * * *  line= 2 star= 7\n",
        "* * * * * * * * *  line= 3 star= 9\n",
        "\n",
        "block= 3\n",
        "* * * * * * *  line= 1 star= 7\n",
        "* * * * * * * * *  line= 2 star= 9\n",
        "* * * * * * * * * * *  line= 3 star= 11\n",
        "* * * * * * * * * * * * *  line= 4 star= 13\n",
        "* * * * * * * * * * * * * * *  line= 5 star= 15\n",
        "\n"
       ]
      }
     ],
     "prompt_number": 12
    },
    {
     "cell_type": "code",
     "collapsed": false,
     "input": [
      "print \"\\tDog \\tBun \\tKetchup Mustard Onions\"\n",
      "count=1\n",
      "for dog in [0,1]:\n",
      "    for bun in [0,1]:\n",
      "        for ketchup in [0,1]:\n",
      "            for mustard in [0,1]:\n",
      "                for onion in [0,1]:\n",
      "                    print \"#\",count,\"\\t\",\n",
      "                    print dog,\"\\t\",bun,\"\\t\",ketchup,\"\\t\",\n",
      "                    print mustard,\"\\t\",onion\n",
      "                    count =count+1"
     ],
     "language": "python",
     "metadata": {},
     "outputs": [
      {
       "output_type": "stream",
       "stream": "stdout",
       "text": [
        "\tDog \tBun \tKetchup Mustard Onions\n",
        "# 1 \t0 \t0 \t0 \t0 \t0\n",
        "# 2 \t0 \t0 \t0 \t0 \t1\n",
        "# 3 \t0 \t0 \t0 \t1 \t0\n",
        "# 4 \t0 \t0 \t0 \t1 \t1\n",
        "# 5 \t0 \t0 \t1 \t0 \t0\n",
        "# 6 \t0 \t0 \t1 \t0 \t1\n",
        "# 7 \t0 \t0 \t1 \t1 \t0\n",
        "# 8 \t0 \t0 \t1 \t1 \t1\n",
        "# 9 \t0 \t1 \t0 \t0 \t0\n",
        "# 10 \t0 \t1 \t0 \t0 \t1\n",
        "# 11 \t0 \t1 \t0 \t1 \t0\n",
        "# 12 \t0 \t1 \t0 \t1 \t1\n",
        "# 13 \t0 \t1 \t1 \t0 \t0\n",
        "# 14 \t0 \t1 \t1 \t0 \t1\n",
        "# 15 \t0 \t1 \t1 \t1 \t0\n",
        "# 16 \t0 \t1 \t1 \t1 \t1\n",
        "# 17 \t1 \t0 \t0 \t0 \t0\n",
        "# 18 \t1 \t0 \t0 \t0 \t1\n",
        "# 19 \t1 \t0 \t0 \t1 \t0\n",
        "# 20 \t1 \t0 \t0 \t1 \t1\n",
        "# 21 \t1 \t0 \t1 \t0 \t0\n",
        "# 22 \t1 \t0 \t1 \t0 \t1\n",
        "# 23 \t1 \t0 \t1 \t1 \t0\n",
        "# 24 \t1 \t0 \t1 \t1 \t1\n",
        "# 25 \t1 \t1 \t0 \t0 \t0\n",
        "# 26 \t1 \t1 \t0 \t0 \t1\n",
        "# 27 \t1 \t1 \t0 \t1 \t0\n",
        "# 28 \t1 \t1 \t0 \t1 \t1\n",
        "# 29 \t1 \t1 \t1 \t0 \t0\n",
        "# 30 \t1 \t1 \t1 \t0 \t1\n",
        "# 31 \t1 \t1 \t1 \t1 \t0\n",
        "# 32 \t1 \t1 \t1 \t1 \t1\n"
       ]
      }
     ],
     "prompt_number": 16
    },
    {
     "cell_type": "code",
     "collapsed": false,
     "input": [
      "dog_cal=140\n",
      "bun_cal=120\n",
      "mus_cal=20\n",
      "ket_cal=20\n",
      "onion_cal=80\n",
      "\n",
      "print \"\\tDog \\tBun \\tKetchup Mustard Onions Calories\"\n",
      "count=1\n",
      "for dog in [0,1]:\n",
      "    for bun in [0,1]:\n",
      "        for ketchup in [0,1]:\n",
      "            for mustard in [0,1]:\n",
      "                for onion in [0,1]:\n",
      "                    total_cal=(bun*bun_cal)+dog*dog_cal+\\\n",
      "                        ketchup*ket_cal+mustard*mus_cal+\\\n",
      "                            onion*onion_cal\n",
      "                    print \"#\",count,\"\\t\",\n",
      "                    print dog,\"\\t\",bun,\"\\t\",ketchup,\"\\t\",\n",
      "                    print mustard,\"\\t\",onion,\"\\t\",total_cal \n",
      "                    count =count+1"
     ],
     "language": "python",
     "metadata": {},
     "outputs": [
      {
       "output_type": "stream",
       "stream": "stdout",
       "text": [
        "\tDog \tBun \tKetchup Mustard Onions Calories\n",
        "# 1 \t0 \t0 \t0 \t0 \t0 \t0\n",
        "# 2 \t0 \t0 \t0 \t0 \t1 \t80\n",
        "# 3 \t0 \t0 \t0 \t1 \t0 \t20\n",
        "# 4 \t0 \t0 \t0 \t1 \t1 \t100\n",
        "# 5 \t0 \t0 \t1 \t0 \t0 \t20\n",
        "# 6 \t0 \t0 \t1 \t0 \t1 \t100\n",
        "# 7 \t0 \t0 \t1 \t1 \t0 \t40\n",
        "# 8 \t0 \t0 \t1 \t1 \t1 \t120\n",
        "# 9 \t0 \t1 \t0 \t0 \t0 \t120\n",
        "# 10 \t0 \t1 \t0 \t0 \t1 \t200\n",
        "# 11 \t0 \t1 \t0 \t1 \t0 \t140\n",
        "# 12 \t0 \t1 \t0 \t1 \t1 \t220\n",
        "# 13 \t0 \t1 \t1 \t0 \t0 \t140\n",
        "# 14 \t0 \t1 \t1 \t0 \t1 \t220\n",
        "# 15 \t0 \t1 \t1 \t1 \t0 \t160\n",
        "# 16 \t0 \t1 \t1 \t1 \t1 \t240\n",
        "# 17 \t1 \t0 \t0 \t0 \t0 \t140\n",
        "# 18 \t1 \t0 \t0 \t0 \t1 \t220\n",
        "# 19 \t1 \t0 \t0 \t1 \t0 \t160\n",
        "# 20 \t1 \t0 \t0 \t1 \t1 \t240\n",
        "# 21 \t1 \t0 \t1 \t0 \t0 \t160\n",
        "# 22 \t1 \t0 \t1 \t0 \t1 \t240\n",
        "# 23 \t1 \t0 \t1 \t1 \t0 \t180\n",
        "# 24 \t1 \t0 \t1 \t1 \t1 \t260\n",
        "# 25 \t1 \t1 \t0 \t0 \t0 \t260\n",
        "# 26 \t1 \t1 \t0 \t0 \t1 \t340\n",
        "# 27 \t1 \t1 \t0 \t1 \t0 \t280\n",
        "# 28 \t1 \t1 \t0 \t1 \t1 \t360\n",
        "# 29 \t1 \t1 \t1 \t0 \t0 \t280\n",
        "# 30 \t1 \t1 \t1 \t0 \t1 \t360\n",
        "# 31 \t1 \t1 \t1 \t1 \t0 \t300\n",
        "# 32 \t1 \t1 \t1 \t1 \t1 \t380\n"
       ]
      }
     ],
     "prompt_number": 23
    },
    {
     "cell_type": "code",
     "collapsed": false,
     "input": [],
     "language": "python",
     "metadata": {},
     "outputs": []
    }
   ],
   "metadata": {}
  }
 ]
}