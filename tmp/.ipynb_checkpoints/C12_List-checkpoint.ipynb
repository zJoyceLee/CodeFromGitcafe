{
 "metadata": {
  "name": ""
 },
 "nbformat": 3,
 "nbformat_minor": 0,
 "worksheets": [
  {
   "cells": [
    {
     "cell_type": "code",
     "collapsed": false,
     "input": [
      "#list\n",
      "famliy=['mom','dad','yang','baby']\n",
      "lunkyNum=['7','1']\n",
      "#every element is caled 'item'"
     ],
     "language": "python",
     "metadata": {},
     "outputs": [],
     "prompt_number": 1
    },
    {
     "cell_type": "code",
     "collapsed": false,
     "input": [
      "#add item\n",
      "friends=[]\n",
      "# wrong situation: friends.append('David','Adam')\n",
      "friends.append('David')\n",
      "print friends\n",
      "friends.append('Adam')\n",
      "print friends"
     ],
     "language": "python",
     "metadata": {},
     "outputs": [
      {
       "output_type": "stream",
       "stream": "stdout",
       "text": [
        "['David']\n",
        "['David', 'Adam']\n"
       ]
      }
     ],
     "prompt_number": 3
    },
    {
     "cell_type": "code",
     "collapsed": false,
     "input": [
      "#list can contain evertthing\n",
      "another_list=['list']\n",
      "another_list.append(13122550)\n",
      "my_list=[5,10,'hello',another_list]\n",
      "print my_list"
     ],
     "language": "python",
     "metadata": {},
     "outputs": [
      {
       "output_type": "stream",
       "stream": "stdout",
       "text": [
        "[5, 10, 'hello', ['list', 13122550]]\n"
       ]
      }
     ],
     "prompt_number": 6
    },
    {
     "cell_type": "code",
     "collapsed": false,
     "input": [
      "letter=['a','b','c','d','e']\n",
      "print letter[0]\n",
      "print letter[3]\n",
      "print letter[1:4] #1 <= x < 4\n",
      "\n",
      "#get item\n",
      "print letter[1],type(letter[1])\n",
      "#get list\n",
      "print letter[1:2],type(letter[1:2])\n",
      "\n",
      "print letter[:2]\n",
      "print letter[2:]\n",
      "print letter[:]\n",
      "# wrong: print letter[]; right: print letter\n",
      "\n",
      "#modify item\n",
      "print letter\n",
      "letter[2]='z'\n",
      "print letter\n",
      "\n",
      "#add item without append\n",
      "#append: 1 item; extend: >1 item; insert: position\n"
     ],
     "language": "python",
     "metadata": {},
     "outputs": [
      {
       "output_type": "stream",
       "stream": "stdout",
       "text": [
        "a\n",
        "d\n",
        "['b', 'c', 'd']\n",
        "b <type 'str'>\n",
        "['b'] <type 'list'>\n",
        "['a', 'b']\n",
        "['c', 'd', 'e']\n",
        "['a', 'b', 'c', 'd', 'e']\n",
        "['a', 'b', 'c', 'd', 'e']\n",
        "['a', 'b', 'z', 'd', 'e']\n"
       ]
      },
      {
       "metadata": {},
       "output_type": "pyout",
       "prompt_number": 15,
       "text": [
        "'\\nappend: 1 item\\nextend: >1 item\\ninsert: position\\n'"
       ]
      }
     ],
     "prompt_number": 15
    },
    {
     "cell_type": "code",
     "collapsed": false,
     "input": [],
     "language": "python",
     "metadata": {},
     "outputs": []
    }
   ],
   "metadata": {}
  }
 ]
}