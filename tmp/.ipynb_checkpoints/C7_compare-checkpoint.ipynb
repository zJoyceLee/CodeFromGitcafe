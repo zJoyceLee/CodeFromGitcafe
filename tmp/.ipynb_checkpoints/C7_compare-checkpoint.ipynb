{
 "metadata": {
  "name": ""
 },
 "nbformat": 3,
 "nbformat_minor": 0,
 "worksheets": [
  {
   "cells": [
    {
     "cell_type": "code",
     "collapsed": false,
     "input": [
      "#py2\n",
      "num1 = float(raw_input(\"Enter the first number: \"))\n",
      "num2 = float(raw_input(\"Enter the second number: \"))\n",
      "if num1 < num2:\n",
      "    print num1, \"is less than\", num2\n",
      "if num1 == num2:\n",
      "    print num1, \"is equal to\", num2\n",
      "if num1 > num2:\n",
      "    print num1, \"is greater than\", num2\n",
      "if num1 != num2:\n",
      "    print num1, \"is not equal to\", num2"
     ],
     "language": "python",
     "metadata": {},
     "outputs": [
      {
       "name": "stdout",
       "output_type": "stream",
       "stream": "stdout",
       "text": [
        "Enter the first number: 10\n"
       ]
      },
      {
       "name": "stdout",
       "output_type": "stream",
       "stream": "stdout",
       "text": [
        "Enter the second number: 20\n"
       ]
      },
      {
       "output_type": "stream",
       "stream": "stdout",
       "text": [
        "10.0 is less than 20.0\n",
        "10.0 is not equal to 20.0\n"
       ]
      }
     ],
     "prompt_number": 2
    },
    {
     "cell_type": "code",
     "collapsed": false,
     "input": [
      "answer = float(raw_input(\"Enter a number from1 to 15: \"))\n",
      "if answer >= 10:\n",
      "    print \"you got at least 10!\"\n",
      "if answer >= 5:\n",
      "    print \"you got at least 5!\"\n",
      "if answer >= 3:\n",
      "    print \"you got at least 3!\"\n",
      "else:\n",
      "    print \"you got less than 3!\""
     ],
     "language": "python",
     "metadata": {},
     "outputs": [
      {
       "name": "stdout",
       "output_type": "stream",
       "stream": "stdout",
       "text": [
        "Enter a number from1 to 15: 15\n"
       ]
      },
      {
       "output_type": "stream",
       "stream": "stdout",
       "text": [
        "you got at least 10!\n",
        "you got at least 5!\n",
        "you got at least 3!\n"
       ]
      }
     ],
     "prompt_number": 4
    },
    {
     "cell_type": "code",
     "collapsed": false,
     "input": [
      "age = float(raw_input(\"Enter your age: \"))\n",
      "grade = int(raw_input(\"Enter your grade: \"))\n",
      "if age >= 8:\n",
      "    if grade >= 3:\n",
      "        print \"you can play this game.\"\n",
      "else:\n",
      "    print \"sorry, you can't play the game.\""
     ],
     "language": "python",
     "metadata": {},
     "outputs": [
      {
       "name": "stdout",
       "output_type": "stream",
       "stream": "stdout",
       "text": [
        "Enter your age: 9\n"
       ]
      },
      {
       "name": "stdout",
       "output_type": "stream",
       "stream": "stdout",
       "text": [
        "Enter your grade: 9\n"
       ]
      },
      {
       "output_type": "stream",
       "stream": "stdout",
       "text": [
        "you can play this game.\n"
       ]
      }
     ],
     "prompt_number": 7
    },
    {
     "cell_type": "code",
     "collapsed": false,
     "input": [
      "age = float(raw_input(\"Enter your age: \"))\n",
      "grade = int(raw_input(\"Enter your grade: \"))\n",
      "if age>=8 and grade >=3:\n",
      "    print \"you can play the game.\"\n",
      "else:\n",
      "    print \"you can't play the game.\""
     ],
     "language": "python",
     "metadata": {},
     "outputs": [
      {
       "name": "stdout",
       "output_type": "stream",
       "stream": "stdout",
       "text": [
        "Enter your age: 7\n"
       ]
      },
      {
       "name": "stdout",
       "output_type": "stream",
       "stream": "stdout",
       "text": [
        "Enter your grade: 6\n"
       ]
      },
      {
       "output_type": "stream",
       "stream": "stdout",
       "text": [
        "you can't play the game.\n"
       ]
      }
     ],
     "prompt_number": 9
    },
    {
     "cell_type": "code",
     "collapsed": false,
     "input": [
      "age = float(raw_input(\"Enter your age: \"))\n",
      "grade = int(raw_input(\"Enter your grade: \"))\n",
      "color = raw_input(\"Enter your favorite color: \")\n",
      "#color == \"str\", pay attention to \"==\"\n",
      "if age>=8 and grade >=3 and color == \"green\":\n",
      "    print \"you can play the game.\"\n",
      "else:\n",
      "    print \"you can't play the game.\""
     ],
     "language": "python",
     "metadata": {},
     "outputs": [
      {
       "name": "stdout",
       "output_type": "stream",
       "stream": "stdout",
       "text": [
        "Enter your age: 8\n"
       ]
      },
      {
       "name": "stdout",
       "output_type": "stream",
       "stream": "stdout",
       "text": [
        "Enter your grade: 3\n"
       ]
      },
      {
       "name": "stdout",
       "output_type": "stream",
       "stream": "stdout",
       "text": [
        "Enter your favorite color: red\n"
       ]
      },
      {
       "output_type": "stream",
       "stream": "stdout",
       "text": [
        "you can't play the game.\n"
       ]
      }
     ],
     "prompt_number": 11
    }
   ],
   "metadata": {}
  }
 ]
}